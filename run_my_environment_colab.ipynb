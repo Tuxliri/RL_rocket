{
  "nbformat": 4,
  "nbformat_minor": 0,
  "metadata": {
    "colab": {
      "name": "run_my_environment.ipynb",
      "provenance": [],
      "collapsed_sections": [],
      "authorship_tag": "ABX9TyMfgRqSkMXH+MzIU2872Zup",
      "include_colab_link": true
    },
    "kernelspec": {
      "name": "python3",
      "display_name": "Python 3"
    },
    "language_info": {
      "name": "python"
    }
  },
  "cells": [
    {
      "cell_type": "markdown",
      "metadata": {
        "id": "view-in-github",
        "colab_type": "text"
      },
      "source": [
        "<a href=\"https://colab.research.google.com/github/Tuxliri/RL_rocket/blob/test-PPO-module-registration/run_my_environment_colab.ipynb\" target=\"_parent\"><img src=\"https://colab.research.google.com/assets/colab-badge.svg\" alt=\"Open In Colab\"/></a>"
      ]
    },
    {
      "cell_type": "code",
      "source": [
        "!cat ~/.ssh/id_ed25519.pub\n",
        "PUB_KEY = \"ssh-ed25519 AAAAC3NzaC1lZDI1NTE5AAAAIKRCMs6GPJ5kNi/fNVNf8Ki/QNwHS494mwuysriErNVs root@ac3a85e94cb7\""
      ],
      "metadata": {
        "colab": {
          "base_uri": "https://localhost:8080/"
        },
        "id": "8bgoqZRSz3FQ",
        "outputId": "b50346c0-79f4-4759-887a-56a0e838f0c6"
      },
      "execution_count": 9,
      "outputs": [
        {
          "output_type": "stream",
          "name": "stdout",
          "text": [
            "ssh-ed25519 AAAAC3NzaC1lZDI1NTE5AAAAIKRCMs6GPJ5kNi/fNVNf8Ki/QNwHS494mwuysriErNVs root@ac3a85e94cb7\n"
          ]
        }
      ]
    },
    {
      "cell_type": "markdown",
      "source": [
        "PRIVATE KEY:"
      ],
      "metadata": {
        "id": "nfW46krWzr4G"
      }
    },
    {
      "cell_type": "code",
      "source": [
        "!mkdir \"my-environment\"\n",
        "!cd \"my-environment\"\n",
        "\n",
        "GITHUB_PRIVATE_KEY = \"\"\"b3BlbnNzaC1rZXktdjEAAAAABG5vbmUAAAAEbm9uZQAAAAAAAAABAAAAMwAAAAtzc2gtZW\n",
        "QyNTUxOQAAACCkQjLOhjyeZDYv3zVTX/Cov0DcB0uPeJsLsrK4hKzVbAAAAJhh7cU0Ye3F\n",
        "NAAAAAtzc2gtZWQyNTUxOQAAACCkQjLOhjyeZDYv3zVTX/Cov0DcB0uPeJsLsrK4hKzVbA\n",
        "AAAEDN2iiEa8wQ9vr1YZa/Db3A25rqlIJmgS5/JHXuCZNpeqRCMs6GPJ5kNi/fNVNf8Ki/\n",
        "QNwHS494mwuysriErNVsAAAAEXJvb3RAYWMzYTg1ZTk0Y2I3AQIDBA==\"\"\"\n",
        "\n",
        "# Create the directory if it doesn't exist.\n",
        "#! mkdir -p /root/.ssh\n",
        "# Write the key\n",
        "#with open(\"/root/.ssh/id_ed25519, \"w\") as f:\n",
        "#  f.write(GITHUB_PRIVATE_KEY)\n",
        "# Add github.com to our known hosts\n",
        "! ssh-keyscan -t ed25519 github.com >> ~/.ssh/known_hosts\n",
        "# Restrict the key permissions, or else SSH will complain.\n",
        "! chmod go-rwx /root/.ssh/id_ed25519\n",
        "\n",
        "# Note the `git@github.com` syntax, which will fetch over SSH instead of\n",
        "# HTTP.\n",
        "!git clone --branch test-PPO-module-registration git@github.com:Tuxliri/RL_rocket.git\n",
        "\n",
        "#! git clone git@github.com:my_username/my_password.git\n",
        "\n",
        "!cd .."
      ],
      "metadata": {
        "colab": {
          "base_uri": "https://localhost:8080/"
        },
        "id": "I4Uab7q5v8nS",
        "outputId": "5b43f5a4-6ee8-4f14-abda-d04bb63e1230"
      },
      "execution_count": 27,
      "outputs": [
        {
          "output_type": "stream",
          "name": "stdout",
          "text": [
            "mkdir: cannot create directory ‘my-environment’: File exists\n",
            "# github.com:22 SSH-2.0-babeld-7f91b4d6\n",
            "Cloning into 'RL_rocket'...\n",
            "remote: Enumerating objects: 636, done.\u001b[K\n",
            "remote: Counting objects: 100% (249/249), done.\u001b[K\n",
            "remote: Compressing objects: 100% (150/150), done.\u001b[K\n",
            "remote: Total 636 (delta 133), reused 205 (delta 94), pack-reused 387\u001b[K\n",
            "Receiving objects: 100% (636/636), 8.72 MiB | 5.64 MiB/s, done.\n",
            "Resolving deltas: 100% (352/352), done.\n"
          ]
        }
      ]
    },
    {
      "cell_type": "code",
      "source": [
        "!pip install stable-baselines3==1.5.0\n",
        "%cd RL_rocket\n",
        "import sys, os\n",
        "sys.path.append(os.getcwd())"
      ],
      "metadata": {
        "colab": {
          "base_uri": "https://localhost:8080/"
        },
        "id": "sWzlYmiY141N",
        "outputId": "b2eb2d2d-806d-4d37-9245-1537c2002c8b"
      },
      "execution_count": 34,
      "outputs": [
        {
          "output_type": "stream",
          "name": "stdout",
          "text": [
            "Looking in indexes: https://pypi.org/simple, https://us-python.pkg.dev/colab-wheels/public/simple/\n",
            "Requirement already satisfied: stable-baselines3==1.5.0 in /usr/local/lib/python3.7/dist-packages (1.5.0)\n",
            "Requirement already satisfied: cloudpickle in /usr/local/lib/python3.7/dist-packages (from stable-baselines3==1.5.0) (1.3.0)\n",
            "Requirement already satisfied: pandas in /usr/local/lib/python3.7/dist-packages (from stable-baselines3==1.5.0) (1.3.5)\n",
            "Requirement already satisfied: gym==0.21 in /usr/local/lib/python3.7/dist-packages (from stable-baselines3==1.5.0) (0.21.0)\n",
            "Requirement already satisfied: torch>=1.8.1 in /usr/local/lib/python3.7/dist-packages (from stable-baselines3==1.5.0) (1.11.0+cu113)\n",
            "Requirement already satisfied: matplotlib in /usr/local/lib/python3.7/dist-packages (from stable-baselines3==1.5.0) (3.2.2)\n",
            "Requirement already satisfied: numpy in /usr/local/lib/python3.7/dist-packages (from stable-baselines3==1.5.0) (1.21.6)\n",
            "Requirement already satisfied: importlib-metadata>=4.8.1 in /usr/local/lib/python3.7/dist-packages (from gym==0.21->stable-baselines3==1.5.0) (4.11.4)\n",
            "Requirement already satisfied: typing-extensions>=3.6.4 in /usr/local/lib/python3.7/dist-packages (from importlib-metadata>=4.8.1->gym==0.21->stable-baselines3==1.5.0) (4.1.1)\n",
            "Requirement already satisfied: zipp>=0.5 in /usr/local/lib/python3.7/dist-packages (from importlib-metadata>=4.8.1->gym==0.21->stable-baselines3==1.5.0) (3.8.0)\n",
            "Requirement already satisfied: python-dateutil>=2.1 in /usr/local/lib/python3.7/dist-packages (from matplotlib->stable-baselines3==1.5.0) (2.8.2)\n",
            "Requirement already satisfied: kiwisolver>=1.0.1 in /usr/local/lib/python3.7/dist-packages (from matplotlib->stable-baselines3==1.5.0) (1.4.3)\n",
            "Requirement already satisfied: pyparsing!=2.0.4,!=2.1.2,!=2.1.6,>=2.0.1 in /usr/local/lib/python3.7/dist-packages (from matplotlib->stable-baselines3==1.5.0) (3.0.9)\n",
            "Requirement already satisfied: cycler>=0.10 in /usr/local/lib/python3.7/dist-packages (from matplotlib->stable-baselines3==1.5.0) (0.11.0)\n",
            "Requirement already satisfied: six>=1.5 in /usr/local/lib/python3.7/dist-packages (from python-dateutil>=2.1->matplotlib->stable-baselines3==1.5.0) (1.15.0)\n",
            "Requirement already satisfied: pytz>=2017.3 in /usr/local/lib/python3.7/dist-packages (from pandas->stable-baselines3==1.5.0) (2022.1)\n",
            "/content/RL_rocket\n"
          ]
        }
      ]
    },
    {
      "cell_type": "markdown",
      "source": [
        "**IMPORT ALL THE NEEDED PACKAGES**"
      ],
      "metadata": {
        "id": "HiCJgT535o_N"
      }
    },
    {
      "cell_type": "code",
      "execution_count": null,
      "metadata": {
        "id": "Sb-HCUk1v2KO"
      },
      "outputs": [],
      "source": [
        "from datetime import datetime\n",
        "from genericpath import exists\n",
        "\n",
        "import os\n",
        "import sys\n",
        "import gym\n",
        "from my_environment.utils.callbacks import FigureRecorderCallback\n",
        "import numpy as np\n",
        "from stable_baselines3 import A2C, DQN, PPO, TD3\n",
        "from tensorboard import program\n",
        "from stable_baselines3.common.callbacks import EvalCallback\n",
        "from stable_baselines3.common.evaluation import evaluate_policy\n",
        "from stable_baselines3.common.monitor import Monitor\n",
        "import my_environment\n",
        "from my_environment.wrappers.wrappers import DiscreteActions, DiscreteActions3DOF\n",
        "from my_environment.envs import Rocket1D\n",
        "from gym.wrappers import FlattenObservation, FilterObservation"
      ]
    },
    {
      "cell_type": "markdown",
      "source": [
        "# Execute the training"
      ],
      "metadata": {
        "id": "rpwKGvd_v4sF"
      }
    },
    {
      "cell_type": "markdown",
      "source": [
        "Setup tensorboard dashboard"
      ],
      "metadata": {
        "id": "OZh-0qjN6l8B"
      }
    },
    {
      "cell_type": "code",
      "source": [
        "# Load the TensorBoard notebook extension\n",
        "%load_ext tensorboard\n",
        "\n",
        "# Choose the folder to store tensorboard logs\n",
        "TENSORBOARD_LOGS_DIR = \"RL_tests/my_environment/logs\"\n",
        "\n",
        "# Start tensorboard server\n",
        "tb = program.TensorBoard()\n",
        "tb.configure(argv=[None, '--logdir', TENSORBOARD_LOGS_DIR])\n",
        "url = tb.launch()\n",
        "print(f\"Tensorboard listening on {url}\")"
      ],
      "metadata": {
        "id": "s-i0Fk0Rv71D"
      },
      "execution_count": null,
      "outputs": []
    },
    {
      "cell_type": "markdown",
      "source": [
        "**Environment definition**\n",
        "\n",
        "Here we define the environment, setting up the initial conditions, the range over which the initial conditions are generated and the timestep of the simulation."
      ],
      "metadata": {
        "id": "0whknuJU6tIm"
      }
    },
    {
      "cell_type": "code",
      "source": [
        "env_id = \"my_environment/Falcon3DOF-v0\"\n",
        "initial_conditions = [100, 500, np.pi/2, 0, -50, 0, 50e3]\n",
        "initial_conditions_range = [0,0,0,0,0,0,0]\n",
        "timestep = 0.1\n",
        "\n",
        "env = gym.make(\n",
        "    env_id,\n",
        "    IC=initial_conditions,\n",
        "    ICRange=initial_conditions_range,\n",
        "    timestep=timestep,\n",
        "    )\n",
        "\n",
        "\"\"\"\n",
        "env = DiscreteActions(Rocket1D(env,reward_type='test3dof'))\n",
        "env = FlattenObservation(FilterObservation(env, ['observation']))\n",
        "\"\"\"\n",
        "\n",
        "# Define a new custom action space with only three actions:\n",
        "# - no thrust\n",
        "# - max thrust gimbaled right\n",
        "# - max thrust gimbaled left\n",
        "# - max thrust downwards\n",
        "disc_to_cont = [\n",
        "    [0, -1], [-1, +1],\n",
        "    [0, +1], [+1, +1]\n",
        "                ]\n",
        "    \n",
        "env = DiscreteActions3DOF(env, disc_to_cont)\n",
        "\n",
        "\n",
        "env = Monitor(\n",
        "    env,\n",
        "    allow_early_resets=True,\n",
        "    filename=\"logs_PPO\"\n",
        "    )\n"
      ],
      "metadata": {
        "id": "_MC0kpJp6Yuf"
      },
      "execution_count": null,
      "outputs": []
    },
    {
      "cell_type": "code",
      "source": [
        "##\n",
        "model = PPO(\n",
        "    'MlpPolicy',\n",
        "    env,\n",
        "    tensorboard_log=TENSORBOARD_LOGS_DIR,\n",
        "    verbose=1\n",
        "    )\n",
        "\n",
        "# Train the agent\n",
        "TRAINING_TIMESTEPS = 1e6\n",
        "\n",
        "# Save the agent in the 'models' folder\n",
        "date = datetime.now()\n",
        "pathname = os.path.dirname(sys.argv[0])\n",
        "savefolder = os.path.join(pathname, 'models')\n",
        "\n",
        "if not exists(savefolder):\n",
        "    os.mkdir(savefolder)\n",
        "\n",
        "filename = \"A2C_landing\" + date.strftime(\"%Y-%m-%d_%H-%M\")\n",
        "\n",
        "callbacksList = [\n",
        "    EvalCallback(\n",
        "            model.get_env(),\n",
        "            eval_freq = TRAINING_TIMESTEPS/10,\n",
        "            n_eval_episodes=1,\n",
        "            best_model_save_path=os.path.join(savefolder, filename),\n",
        "            render=False,\n",
        "            callback_after_eval=FigureRecorderCallback()\n",
        "            )\n",
        "        ]\n",
        "\n",
        "model.learn(\n",
        "    total_timesteps=TRAINING_TIMESTEPS,\n",
        "    callback=callbacksList\n",
        ")\n",
        "\n",
        "rewards = evaluate_policy(model=model,env=model.get_env(),render=False,n_eval_episodes=10)\n",
        "\n",
        "model.save()"
      ],
      "metadata": {
        "id": "oZ1ZGrab6TJh"
      },
      "execution_count": null,
      "outputs": []
    }
  ]
}