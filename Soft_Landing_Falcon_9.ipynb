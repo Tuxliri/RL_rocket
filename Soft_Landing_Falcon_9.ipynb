{
  "cells": [
    {
      "cell_type": "markdown",
      "metadata": {
        "id": "Pn0CpVNa-fa8",
        "nbpages": {
          "level": 0,
          "link": "[](https://jckantor.github.io/ND-Pyomo-Cookbook/06.04-Soft-Landing-Apollo-11-on-the-Moon.html)",
          "section": ""
        }
      },
      "source": [
        "<!--NOTEBOOK_HEADER-->\n",
        "*This notebook contains material from [ND-Pyomo-Cookbook](https://jckantor.github.io/ND-Pyomo-Cookbook);\n",
        "content is available [on Github](https://github.com/jckantor/ND-Pyomo-Cookbook.git).*\n",
        "*The text is released under the [CC-BY-NC-ND-4.0 license](https://creativecommons.org/licenses/by-nc-nd/4.0/legalcode),\n",
        "and code is released under the [MIT license](https://opensource.org/licenses/MIT).*"
      ]
    },
    {
      "cell_type": "markdown",
      "metadata": {
        "id": "8C_vr6C0Jf8I",
        "nbpages": {
          "level": 1,
          "link": "[6.4 Soft Landing Apollo 11 on the Moon](https://jckantor.github.io/ND-Pyomo-Cookbook/06.04-Soft-Landing-Apollo-11-on-the-Moon.html#6.4-Soft-Landing-Apollo-11-on-the-Moon)",
          "section": "6.4 Soft Landing Apollo 11 on the Moon"
        }
      },
      "source": [
        "# 6.4 Soft Landing Falcon 9\n",
        "\n",
        "Keywords: optimal control, ipopt usage, dae, differential-algebraic equations, rescaling time"
      ]
    },
    {
      "cell_type": "markdown",
      "metadata": {
        "id": "IJIPVYupiSrk",
        "nbpages": {
          "level": 1,
          "link": "[6.4 Soft Landing Apollo 11 on the Moon](https://jckantor.github.io/ND-Pyomo-Cookbook/06.04-Soft-Landing-Apollo-11-on-the-Moon.html#6.4-Soft-Landing-Apollo-11-on-the-Moon)",
          "section": "6.4 Soft Landing Apollo 11 on the Moon"
        }
      },
      "source": [
        "This notebook can be used to generate the batch of optimal trajectories used to train the neural network by imitation learning."
      ]
    },
    {
      "cell_type": "markdown",
      "metadata": {
        "id": "r1DkXPM5wif0",
        "nbpages": {
          "level": 2,
          "link": "[6.4.1 Imports](https://jckantor.github.io/ND-Pyomo-Cookbook/06.04-Soft-Landing-Apollo-11-on-the-Moon.html#6.4.1-Imports)",
          "section": "6.4.1 Imports"
        }
      },
      "source": [
        "## 6.4.1 Imports"
      ]
    },
    {
      "cell_type": "code",
      "execution_count": null,
      "metadata": {
        "colab": {
          "base_uri": "https://localhost:8080/"
        },
        "id": "bR8Myhw41z4E",
        "nbpages": {
          "level": 2,
          "link": "[6.4.1 Imports](https://jckantor.github.io/ND-Pyomo-Cookbook/06.04-Soft-Landing-Apollo-11-on-the-Moon.html#6.4.1-Imports)",
          "section": "6.4.1 Imports"
        },
        "outputId": "d2dc038b-00c5-488d-e2bb-59814957e427"
      },
      "outputs": [],
      "source": [
        "%matplotlib inline\n",
        "\n",
        "import matplotlib.pyplot as plt\n",
        "import numpy as np\n",
        "\n",
        "import shutil\n",
        "import sys\n",
        "import os.path\n",
        "\n",
        "if not shutil.which(\"pyomo\"):\n",
        "    !pip install -q pyomo\n",
        "    assert(shutil.which(\"pyomo\"))\n",
        "\n",
        "if not (shutil.which(\"ipopt\") or os.path.isfile(\"ipopt\")):\n",
        "    if \"google.colab\" in sys.modules:\n",
        "        !wget -N -q \"https://ampl.com/dl/open/ipopt/ipopt-linux64.zip\"\n",
        "        !unzip -o -q ipopt-linux64\n",
        "    else:\n",
        "        try:\n",
        "            !conda install -y -c conda-forge ipopt \n",
        "        except:\n",
        "            pass\n",
        "\n",
        "assert(shutil.which(\"ipopt\") or os.path.isfile(\"ipopt\"))\n",
        "from pyomo.environ import *\n",
        "from pyomo.dae import *\n",
        "\n",
        "%pip install ipywidgets\n",
        "from matplotlib.animation import FuncAnimation, PillowWriter, FFMpegWriter\n",
        "from ipywidgets import IntProgress\n",
        "from IPython.display import display"
      ]
    },
    {
      "cell_type": "markdown",
      "metadata": {
        "id": "6VFVBpH9pt0M",
        "nbpages": {
          "level": 2,
          "link": "[6.4.2 Version 1: Vertical dynamics of a rocket with constant mass](https://jckantor.github.io/ND-Pyomo-Cookbook/06.04-Soft-Landing-Apollo-11-on-the-Moon.html#6.4.2-Version-1:-Vertical-dynamics-of-a-rocket-with-constant-mass)",
          "section": "6.4.2 Version 1: Vertical dynamics of a rocket with constant mass"
        }
      },
      "source": [
        "## 6.4.2 Version 1: Vertical dynamics of a rocket with constant mass\n",
        "\n",
        "For a rocket with a mass $m$ in vertical flight at altitude $h$, a momentum balance yields the model\n",
        "\n",
        "\\begin{align*}\n",
        "m\\frac{d^2y}{dt^2} & = - m g + T_{max}u\\sin(\\theta+\\delta) \\\\\n",
        "m\\frac{d^2x}{dt^2} & = T_{max}u\\cos(\\theta+\\delta) \\\\\n",
        "J\\frac{d^2\\theta}{dt^2} & = -T_{max}u\\sin(\\delta)(x_{T}-x_{CG}) \\\\\n",
        "\\end{align*}\n",
        "\n",
        "where $u\\in[0,1]$ is the normalized thrust and $T_{max}$ is the engine maximum thrust. For the rotational balance $J$ is the inertia of the rocket and the quantity $(x_{T}-x_{CG})$ is the distance between the center of mass of the rocket and the engine gimbal attachment (where the thrust is transfered to the body of the launcher), both measured from the tip of the rocket.\n",
        "\n",
        "In this first attempt at modeling and control we will neglect the change in rocket mass due to fuel burn.\n",
        "\n",
        "![](https://upload.wikimedia.org/wikipedia/commons/thumb/1/13/LM_illustration_02-IT.png/368px-LM_illustration_02-IT.png)\n",
        "\n",
        "<a title=\"LM_illustration_02.jpg: NASA Marshall Space Flight Center (NASA-MSFC)\n",
        "derivative work: Adert [Public domain], via Wikimedia Commons\" href=\"https://commons.wikimedia.org/wiki/File:LM_illustration_02-IT.png\"></a>\n",
        "\n",
        "LM_illustration_02.jpg: NASA Marshall Space Flight Center (NASA-MSFC)derivative work: Adert [Public domain]\n",
        "\n",
        "The following data is for the [Falcon 9 rocket](https://www.spacex.com/media/falcon-users-guide-2021-09.pdf)."
      ]
    },
    {
      "cell_type": "code",
      "execution_count": 19,
      "metadata": {
        "id": "r-GXDIYS4bao",
        "nbpages": {
          "level": 2,
          "link": "[6.4.2 Version 1: Vertical dynamics of a rocket with constant mass](https://jckantor.github.io/ND-Pyomo-Cookbook/06.04-Soft-Landing-Apollo-11-on-the-Moon.html#6.4.2-Version-1:-Vertical-dynamics-of-a-rocket-with-constant-mass)",
          "section": "6.4.2 Version 1: Vertical dynamics of a rocket with constant mass"
        }
      },
      "outputs": [],
      "source": [
        "# lunar module\n",
        "m_total = 50000                 # kg\n",
        "I_total = 6.04e6                # kg*m**2\n",
        "L_thrust = 30                   # Thrust arm [m]\n",
        "\n",
        "# descent engine characteristics\n",
        "u_max = 981600                  # 981.6 kNewtons\n",
        "\n",
        "# landing mission specifications\n",
        "h_initial = 1000.0           # meters\n",
        "x_initial = 100\n",
        "theta_initial = np.pi/2.        # Initial angle from vertical\n",
        "\n",
        "vy_initial = -300               # falling velocity m/s\n",
        "vx_initial = 0               # horizontal velocity m/s\n",
        "vtheta_initial = 0\n",
        "\n",
        "g = 9.81                     # m/s**2\n",
        "\n",
        "deg_to_rad = np.pi/180"
      ]
    },
    {
      "cell_type": "markdown",
      "metadata": {
        "id": "rLx0_brhUzl9",
        "nbpages": {
          "level": 2,
          "link": "[6.4.3 Version 2: Rescaled model](https://jckantor.github.io/ND-Pyomo-Cookbook/06.04-Soft-Landing-Apollo-11-on-the-Moon.html#6.4.3-Version-2:-Rescaled-model)",
          "section": "6.4.3 Version 2: Rescaled model"
        }
      },
      "source": [
        "## 6.4.3 Version 2: Rescaled model\n",
        "\n",
        "At this point, it's now clear the first version of this model has run into some serious problems:\n",
        "\n",
        "* The calculated trajectory takes us through a crash landing and trip through the interior of the moon. \n",
        "* The engine thrust never goes to zero, even when the lander is at zero velocity and on the surface. The reason is that the model doesn't account for the reaction force of the surface on the lander. So the lander is really just hoovering rather than landing.\n",
        "* There is no obvious means of estimating the time required for the mission. \n",
        "\n",
        "Let's begin with the last issue. We will introduce an additional decision variable $T$ denoting the length of the mission. Time is then rescaled as\n",
        "\n",
        "$$\\tau = \\frac{t}{T}\\quad\\implies\\quad t =\\tau T$$\n",
        "\n",
        "The differential equation model then becomes\n",
        "\n",
        "\\begin{align*}\n",
        "\\frac{m}{T^2}\\frac{d^2h}{d\\tau^2} & = - m g + v_eu \\\\\n",
        "\\end{align*}\n",
        "\n",
        "The net result is that an additional variable, $T$, denoting the duration of the descent mission has been introduced into the optimization problem."
      ]
    },
    {
      "cell_type": "code",
      "execution_count": 20,
      "metadata": {
        "colab": {
          "base_uri": "https://localhost:8080/",
          "height": 297
        },
        "id": "6KLIZeb8UzKG",
        "nbpages": {
          "level": 2,
          "link": "[6.4.3 Version 2: Rescaled model](https://jckantor.github.io/ND-Pyomo-Cookbook/06.04-Soft-Landing-Apollo-11-on-the-Moon.html#6.4.3-Version-2:-Rescaled-model)",
          "section": "6.4.3 Version 2: Rescaled model"
        },
        "outputId": "0c5bbab4-e109-43e9-f59c-b5045b676bda"
      },
      "outputs": [],
      "source": [
        "m = ConcreteModel()\n",
        "m.t = ContinuousSet(bounds=(0, 1))\n",
        "m.y = Var(m.t)\n",
        "m.x = Var(m.t)\n",
        "m.theta = Var(m.t)\n",
        "m.u = Var(m.t, bounds=(0, 1))\n",
        "m.gimbal = Var(m.t, bounds=(-20*deg_to_rad, +20*deg_to_rad))\n",
        "m.T = Var(domain=NonNegativeReals)\n",
        "\n",
        "m.vx = DerivativeVar(m.x, wrt=m.t)\n",
        "m.vy = DerivativeVar(m.y, wrt=m.t)\n",
        "m.vtheta = DerivativeVar(m.theta, wrt=m.t)\n",
        "\n",
        "m.ax = DerivativeVar(m.vx, wrt=m.t)\n",
        "m.ay = DerivativeVar(m.vy, wrt=m.t)\n",
        "m.atheta = DerivativeVar(m.vtheta, wrt=m.t)\n",
        "\n",
        "# Dynamics constraints definition (EOM)\n",
        "m.ode1 = Constraint(m.t, rule = lambda m, t: \n",
        "    m_total*m.ax[t]/m.T**2 == u_max*m.u[t]*cos(m.gimbal[t]+m.theta[t]))\n",
        "\n",
        "m.ode2 = Constraint(m.t, rule = lambda m, t: \n",
        "    m_total*m.ay[t]/m.T**2 == u_max*m.u[t]*sin(m.gimbal[t]+m.theta[t]) - m_total*g)\n",
        "\n",
        "m.ode3 = Constraint(m.t, rule = lambda m, t: \n",
        "    I_total*m.atheta[t]/m.T**2 == -L_thrust*u_max*m.u[t]*sin(m.gimbal[t]))\n",
        "\n",
        "m.y[0].fix(h_initial)\n",
        "m.x[0].fix(x_initial)\n",
        "m.theta[0].fix(theta_initial)\n",
        "\n",
        "m.vy[0].fix(vy_initial)\n",
        "m.vx[0].fix(vx_initial)\n",
        "m.vtheta[0].fix(vtheta_initial)\n",
        "\n",
        "m.y[1].fix(0)    # land on surface\n",
        "m.x[1].fix(0)    # land on surface\n",
        "m.theta[1].fix(np.pi/2)    # land on surface\n",
        "\n",
        "m.vx[1].fix(0)    # soft landing\n",
        "m.vy[1].fix(0)    # soft landing\n",
        "m.vtheta[1].fix(0)    # soft landing\n"
      ]
    },
    {
      "cell_type": "markdown",
      "metadata": {
        "id": "S7sI82VUcSii",
        "nbpages": {
          "level": 3,
          "link": "[6.4.3.2 Minimize fuel consumption](https://jckantor.github.io/ND-Pyomo-Cookbook/06.04-Soft-Landing-Apollo-11-on-the-Moon.html#6.4.3.2-Minimize-fuel-consumption)",
          "section": "6.4.3.2 Minimize fuel consumption"
        }
      },
      "source": [
        "### 6.4.3.1 Minimize fuel consumption\n",
        "\n",
        "$$\\min_{u(\\tau), T} T\\int_0^1 u(\\tau)\\, d\\tau$$"
      ]
    },
    {
      "cell_type": "code",
      "execution_count": 21,
      "metadata": {},
      "outputs": [],
      "source": [
        "\n",
        "# Minimum fuel constraint\n",
        "m.fuel = Integral(m.t, wrt=m.t, rule = lambda m, t: m.u[t]*m.T)\n",
        "m.obj = Objective(expr=m.fuel, sense=minimize)\n",
        "\n",
        "def solve(m):\n",
        "  \n",
        "    TransformationFactory('dae.finite_difference').apply_to(m, nfe=150, scheme='FORWARD')\n",
        "    SolverFactory('ipopt').solve(m)\n",
        "    \n",
        "solve(m)"
      ]
    },
    {
      "cell_type": "code",
      "execution_count": 22,
      "metadata": {},
      "outputs": [
        {
          "data": {
            "image/png": "[encoded data removed]",
            "text/plain": [
              "<Figure size 432x288 with 4 Axes>"
            ]
          },
          "metadata": {
            "needs_background": "light"
          },
          "output_type": "display_data"
        },
        {
          "data": {
            "image/png": "[encoded data removed]",
            "text/plain": [
              "<Figure size 432x288 with 1 Axes>"
            ]
          },
          "metadata": {
            "needs_background": "light"
          },
          "output_type": "display_data"
        }
      ],
      "source": [
        "def plot(m):\n",
        "    tsim = [t*m.T() for t in m.t]\n",
        "    hsim = [m.y[t]() for t in m.t]\n",
        "    thetasim = [m.theta[t]() for t in m.t]\n",
        "    usim = [m.u[t]() for t in m.t]\n",
        "    gimbalsim = [m.gimbal[t]() for t in m.t]\n",
        "\n",
        "    plt.subplot(2,2,1)\n",
        "    plt.plot(tsim, hsim)\n",
        "    plt.title('altitude')\n",
        "    plt.xlabel('time / seconds')\n",
        "    plt.ylabel('meters')\n",
        "    plt.legend(['mission length =' + str(round(m.T(),1)) + ' seconds'])\n",
        "    plt.grid(True)\n",
        "    \n",
        "    plt.subplot(2,2,2)\n",
        "    plt.plot(tsim, usim)\n",
        "    plt.title('engine mass flow')\n",
        "    plt.xlabel('time / seconds')\n",
        "    plt.ylabel('sec')\n",
        "    plt.grid(True)\n",
        "    \n",
        "    plt.subplot(2,2,3)\n",
        "    plt.plot(tsim, gimbalsim)\n",
        "    plt.title('engine gimbal')\n",
        "    plt.xlabel('time / seconds')\n",
        "    plt.ylabel('sec')\n",
        "    plt.grid(True)\n",
        "\n",
        "    plt.subplot(2,2,4)\n",
        "    plt.plot(tsim, thetasim)\n",
        "    plt.title('theta')\n",
        "    plt.xlabel('deg')\n",
        "    plt.ylabel('sec')\n",
        "    plt.grid(True)\n",
        "    \n",
        "    plt.tight_layout()\n",
        "\n",
        "def plot_trajectory(m):\n",
        "    tsim = [t*m.T() for t in m.t]\n",
        "    ysim = [m.y[t]() for t in m.t]\n",
        "    xsim = [m.x[t]() for t in m.t]\n",
        "\n",
        "    __,ax, = plt.subplots()\n",
        "    plt.plot(xsim,ysim)\n",
        "    ax.set_aspect('equal')\n",
        "    plt.show()\n",
        "\n",
        "plot(m)\n",
        "plot_trajectory(m)"
      ]
    },
    {
      "cell_type": "markdown",
      "metadata": {},
      "source": [
        "Generate an animation of the landing\n",
        "\n",
        "Code from: [https://medium.com/analytics-vidhya/dynamic-optimization-in-python-rocket-soft-landing-a5a68eaf3b94]"
      ]
    },
    {
      "cell_type": "code",
      "execution_count": 23,
      "metadata": {},
      "outputs": [
        {
          "name": "stdout",
          "output_type": "stream",
          "text": [
            "Generating Animation\n"
          ]
        },
        {
          "data": {
            "application/vnd.jupyter.widget-view+json": {
              "model_id": "3949dcf1da454e8398db269f171f1262",
              "version_major": 2,
              "version_minor": 0
            },
            "text/plain": [
              "IntProgress(value=0, max=152)"
            ]
          },
          "metadata": {},
          "output_type": "display_data"
        },
        {
          "data": {
            "image/png": "[encoded data removed]",
            "text/plain": [
              "<Figure size 360x576 with 1 Axes>"
            ]
          },
          "metadata": {
            "needs_background": "light"
          },
          "output_type": "display_data"
        }
      ],
      "source": [
        "print(\"Generating Animation\")\n",
        "steps = len([t for t in m.t]) + 1\n",
        "final_time_step = round(1/steps,2)\n",
        "f = IntProgress(min = 0, max = steps)\n",
        "display(f)\n",
        "\n",
        "xsim = np.array([m.x[t]() for t in m.t]).reshape(-1,1)\n",
        "vxsim = np.array([m.vx[t]() for t in m.t]).reshape(-1,1)\n",
        "ysim = np.array([m.y[t]() for t in m.t]).reshape(-1,1)\n",
        "vysim = np.array([m.vy[t]() for t in m.t]).reshape(-1,1)\n",
        "theta_sim = np.array([m.theta[t]() for t in m.t]).reshape(-1,1)\n",
        "vtheta_sim = np.array([m.vtheta[t]() for t in m.t]).reshape(-1,1)\n",
        "\n",
        "thrust_sim = np.array([m.u[t]() for t in m.t]).reshape(-1,1)\n",
        "thrust_angle_sim = np.array([m.gimbal[t]() for t in m.t]).reshape(-1,1)\n",
        "\n",
        "x_t = np.hstack([xsim,vxsim,ysim,vysim,theta_sim,vtheta_sim])\n",
        "u_t = np.hstack([thrust_sim,thrust_angle_sim])\n",
        "\n",
        "fig = plt.figure(figsize = (5,8), constrained_layout=False)\n",
        "ax1 = fig.add_subplot(111)\n",
        "plt.axhline(y=0., color='b', linestyle='--', lw=0.8)\n",
        "\n",
        "ln6, = ax1.plot([], [], '--', linewidth = 2, color = 'orange') # trajectory line\n",
        "ln2, = ax1.plot([], [], linewidth = 2, color = 'tomato') # thrust line\n",
        "ln1, = ax1.plot([], [], linewidth = 7, color = 'lightblue') # rocket body\n",
        "\n",
        "plt.tight_layout()\n",
        "\n",
        "ax1.set_xlim(-500, 500)\n",
        "ax1.set_ylim(-200, 800)\n",
        "ax1.set_aspect(1)  # aspect of the axis scaling, i.e. the ratio of y-unit to x-unit\n",
        "\n",
        "# Size\n",
        "length = 50                       # m\n",
        "width = 3.66                         # m\n",
        "\n",
        "def update(i):\n",
        "    rocket_theta = x_t[i, 4] +np.pi/2\n",
        "\n",
        "    rocket_x = x_t[i, 0]\n",
        "    # length/1 is just to make rocket bigger in animation\n",
        "    rocket_x_points = [rocket_x + length/1 * np.sin(rocket_theta), rocket_x - length/1 * np.sin(rocket_theta)]\n",
        "\n",
        "    rocket_y = x_t[i, 2]\n",
        "    rocket_y_points = [rocket_y + length/1 * np.cos(rocket_theta), rocket_y - length/1 * np.cos(rocket_theta)]\n",
        "\n",
        "    ln1.set_data(rocket_x_points, rocket_y_points)\n",
        "\n",
        "    thrust_mag = u_t[i, 0]*u_max\n",
        "    thrust_angle = -u_t[i, 1]\n",
        "    v_exhaust=3000\n",
        "    flame_length = (thrust_mag) * (0.4/v_exhaust)\n",
        "    flame_x_points = [rocket_x_points[1], rocket_x_points[1] + flame_length * np.sin(thrust_angle + rocket_theta)]\n",
        "    flame_y_points = [rocket_y_points[1], rocket_y_points[1] + flame_length * np.cos(thrust_angle + rocket_theta)]\n",
        "\n",
        "    ln2.set_data(flame_x_points, flame_y_points)\n",
        "    ln6.set_data(x_t[:i, 0], x_t[:i, 2])\n",
        "\n",
        "    f.value += 1\n",
        "\n",
        "playback_speed = 6500 # the higher the slower \n",
        "anim = FuncAnimation(fig, update, np.arange(0, steps-1, 1), interval= final_time_step * playback_speed)\n",
        "\n",
        "anim\n",
        "writergif = PillowWriter(fps=30) \n",
        "\n",
        "anim.save(os.getcwd()+'/optimal_lander.gif', writer=writergif)"
      ]
    },
    {
      "cell_type": "markdown",
      "metadata": {
        "id": "GsfF_3Do-oHb",
        "nbpages": {
          "level": 2,
          "link": "[6.4.4 Version 3: Rocket model](https://jckantor.github.io/ND-Pyomo-Cookbook/06.04-Soft-Landing-Apollo-11-on-the-Moon.html#6.4.4-Version-3:-Rocket-model)",
          "section": "6.4.4 Version 3: Rocket model"
        }
      },
      "source": [
        "## 6.4.4 Version 3: Rocket model\n",
        "\n",
        "The first version of the rocket model has run into a serious problem because it appears not to provide enough mass flow to the engine to prevent a crash landing. But that may be an artifact of the assumption of constant mass. For Apollo 11 Lunar Module, for example, the fuel in the descent engine comprises more than 50% of the total mass of the lander.\n",
        "\n",
        "For the second version of the rocket model, we augment the model with a mass balance for fuel. This yields \n",
        "\n",
        "\\begin{align*}\n",
        "\\frac{m(t)}{T^2}\\frac{d^2h}{d\\tau^2} & = - m(t)g + v_eu \\\\\n",
        "\\\\\n",
        "\\frac{1}{T}\\frac{dm}{d\\tau} & = -u\n",
        "\\end{align*}"
      ]
    },
    {
      "cell_type": "markdown",
      "metadata": {
        "id": "U-3yVHHsJJO4",
        "nbpages": {
          "level": 2,
          "link": "[6.4.4 Version 3: Rocket model](https://jckantor.github.io/ND-Pyomo-Cookbook/06.04-Soft-Landing-Apollo-11-on-the-Moon.html#6.4.4-Version-3:-Rocket-model)",
          "section": "6.4.4 Version 3: Rocket model"
        }
      },
      "source": [
        "At this point we need to worry about nonsensical answers to the optimization for minimum fuel. For this purpose we add upper and lower bounds on $T$ that should restrict the solver to meaningful solutions."
      ]
    },
    {
      "cell_type": "code",
      "execution_count": 24,
      "metadata": {
        "colab": {
          "base_uri": "https://localhost:8080/",
          "height": 441
        },
        "id": "rE5Az9d-DWn9",
        "nbpages": {
          "level": 2,
          "link": "[6.4.4 Version 3: Rocket model](https://jckantor.github.io/ND-Pyomo-Cookbook/06.04-Soft-Landing-Apollo-11-on-the-Moon.html#6.4.4-Version-3:-Rocket-model)",
          "section": "6.4.4 Version 3: Rocket model"
        },
        "outputId": "9d9822fb-b349-471d-c47a-000c612c93fd"
      },
      "outputs": [
        {
          "name": "stdout",
          "output_type": "stream",
          "text": [
            "ERROR: Rule failed when generating expression for Constraint ode1 with index\n",
            "    0: NameError: name 'v_exhaust' is not defined\n",
            "ERROR: Constructing component 'ode1' from data=None failed: NameError: name\n",
            "    'v_exhaust' is not defined\n"
          ]
        },
        {
          "ename": "NameError",
          "evalue": "name 'v_exhaust' is not defined",
          "output_type": "error",
          "traceback": [
            "\u001b[0;31m---------------------------------------------------------------------------\u001b[0m",
            "\u001b[0;31mNameError\u001b[0m                                 Traceback (most recent call last)",
            "\u001b[0;32m/tmp/ipykernel_28148/750455012.py\u001b[0m in \u001b[0;36m<module>\u001b[0;34m\u001b[0m\n\u001b[1;32m     13\u001b[0m \u001b[0mm\u001b[0m\u001b[0;34m.\u001b[0m\u001b[0mobj\u001b[0m \u001b[0;34m=\u001b[0m \u001b[0mObjective\u001b[0m\u001b[0;34m(\u001b[0m\u001b[0mexpr\u001b[0m\u001b[0;34m=\u001b[0m\u001b[0mm\u001b[0m\u001b[0;34m.\u001b[0m\u001b[0mfuel\u001b[0m\u001b[0;34m,\u001b[0m \u001b[0msense\u001b[0m\u001b[0;34m=\u001b[0m\u001b[0mminimize\u001b[0m\u001b[0;34m)\u001b[0m\u001b[0;34m\u001b[0m\u001b[0;34m\u001b[0m\u001b[0m\n\u001b[1;32m     14\u001b[0m \u001b[0;34m\u001b[0m\u001b[0m\n\u001b[0;32m---> 15\u001b[0;31m \u001b[0mm\u001b[0m\u001b[0;34m.\u001b[0m\u001b[0mode1\u001b[0m \u001b[0;34m=\u001b[0m \u001b[0mConstraint\u001b[0m\u001b[0;34m(\u001b[0m\u001b[0mm\u001b[0m\u001b[0;34m.\u001b[0m\u001b[0mt\u001b[0m\u001b[0;34m,\u001b[0m \u001b[0mrule\u001b[0m \u001b[0;34m=\u001b[0m \u001b[0;32mlambda\u001b[0m \u001b[0mm\u001b[0m\u001b[0;34m,\u001b[0m \u001b[0mt\u001b[0m\u001b[0;34m:\u001b[0m \u001b[0mm\u001b[0m\u001b[0;34m.\u001b[0m\u001b[0mm\u001b[0m\u001b[0;34m[\u001b[0m\u001b[0mt\u001b[0m\u001b[0;34m]\u001b[0m\u001b[0;34m*\u001b[0m\u001b[0mm\u001b[0m\u001b[0;34m.\u001b[0m\u001b[0ma\u001b[0m\u001b[0;34m[\u001b[0m\u001b[0mt\u001b[0m\u001b[0;34m]\u001b[0m\u001b[0;34m/\u001b[0m\u001b[0mm\u001b[0m\u001b[0;34m.\u001b[0m\u001b[0mT\u001b[0m\u001b[0;34m**\u001b[0m\u001b[0;36m2\u001b[0m \u001b[0;34m==\u001b[0m \u001b[0;34m-\u001b[0m\u001b[0mm\u001b[0m\u001b[0;34m.\u001b[0m\u001b[0mm\u001b[0m\u001b[0;34m[\u001b[0m\u001b[0mt\u001b[0m\u001b[0;34m]\u001b[0m\u001b[0;34m*\u001b[0m\u001b[0mg\u001b[0m \u001b[0;34m+\u001b[0m \u001b[0mv_exhaust\u001b[0m\u001b[0;34m*\u001b[0m\u001b[0mm\u001b[0m\u001b[0;34m.\u001b[0m\u001b[0mu\u001b[0m\u001b[0;34m[\u001b[0m\u001b[0mt\u001b[0m\u001b[0;34m]\u001b[0m\u001b[0;34m)\u001b[0m\u001b[0;34m\u001b[0m\u001b[0;34m\u001b[0m\u001b[0m\n\u001b[0m\u001b[1;32m     16\u001b[0m \u001b[0mm\u001b[0m\u001b[0;34m.\u001b[0m\u001b[0mode2\u001b[0m \u001b[0;34m=\u001b[0m \u001b[0mConstraint\u001b[0m\u001b[0;34m(\u001b[0m\u001b[0mm\u001b[0m\u001b[0;34m.\u001b[0m\u001b[0mt\u001b[0m\u001b[0;34m,\u001b[0m \u001b[0mrule\u001b[0m \u001b[0;34m=\u001b[0m \u001b[0;32mlambda\u001b[0m \u001b[0mm\u001b[0m\u001b[0;34m,\u001b[0m \u001b[0mt\u001b[0m\u001b[0;34m:\u001b[0m \u001b[0mm\u001b[0m\u001b[0;34m.\u001b[0m\u001b[0mmdot\u001b[0m\u001b[0;34m[\u001b[0m\u001b[0mt\u001b[0m\u001b[0;34m]\u001b[0m\u001b[0;34m/\u001b[0m\u001b[0mm\u001b[0m\u001b[0;34m.\u001b[0m\u001b[0mT\u001b[0m \u001b[0;34m==\u001b[0m \u001b[0;34m-\u001b[0m\u001b[0mm\u001b[0m\u001b[0;34m.\u001b[0m\u001b[0mu\u001b[0m\u001b[0;34m[\u001b[0m\u001b[0mt\u001b[0m\u001b[0;34m]\u001b[0m\u001b[0;34m)\u001b[0m\u001b[0;34m\u001b[0m\u001b[0;34m\u001b[0m\u001b[0m\n\u001b[1;32m     17\u001b[0m \u001b[0;34m\u001b[0m\u001b[0m\n",
            "\u001b[0;32m~/anaconda3/envs/beginnersPPO/lib/python3.7/site-packages/pyomo/core/base/block.py\u001b[0m in \u001b[0;36m__setattr__\u001b[0;34m(self, name, val)\u001b[0m\n\u001b[1;32m    542\u001b[0m                 \u001b[0;31m# Pyomo components are added with the add_component method.\u001b[0m\u001b[0;34m\u001b[0m\u001b[0;34m\u001b[0m\u001b[0;34m\u001b[0m\u001b[0m\n\u001b[1;32m    543\u001b[0m                 \u001b[0;31m#\u001b[0m\u001b[0;34m\u001b[0m\u001b[0;34m\u001b[0m\u001b[0;34m\u001b[0m\u001b[0m\n\u001b[0;32m--> 544\u001b[0;31m                 \u001b[0mself\u001b[0m\u001b[0;34m.\u001b[0m\u001b[0madd_component\u001b[0m\u001b[0;34m(\u001b[0m\u001b[0mname\u001b[0m\u001b[0;34m,\u001b[0m \u001b[0mval\u001b[0m\u001b[0;34m)\u001b[0m\u001b[0;34m\u001b[0m\u001b[0;34m\u001b[0m\u001b[0m\n\u001b[0m\u001b[1;32m    545\u001b[0m             \u001b[0;32melse\u001b[0m\u001b[0;34m:\u001b[0m\u001b[0;34m\u001b[0m\u001b[0;34m\u001b[0m\u001b[0m\n\u001b[1;32m    546\u001b[0m                 \u001b[0;31m#\u001b[0m\u001b[0;34m\u001b[0m\u001b[0;34m\u001b[0m\u001b[0;34m\u001b[0m\u001b[0m\n",
            "\u001b[0;32m~/anaconda3/envs/beginnersPPO/lib/python3.7/site-packages/pyomo/core/base/block.py\u001b[0m in \u001b[0;36madd_component\u001b[0;34m(self, name, val)\u001b[0m\n\u001b[1;32m   1087\u001b[0m                              _blockName, str(data))\n\u001b[1;32m   1088\u001b[0m             \u001b[0;32mtry\u001b[0m\u001b[0;34m:\u001b[0m\u001b[0;34m\u001b[0m\u001b[0;34m\u001b[0m\u001b[0m\n\u001b[0;32m-> 1089\u001b[0;31m                 \u001b[0mval\u001b[0m\u001b[0;34m.\u001b[0m\u001b[0mconstruct\u001b[0m\u001b[0;34m(\u001b[0m\u001b[0mdata\u001b[0m\u001b[0;34m)\u001b[0m\u001b[0;34m\u001b[0m\u001b[0;34m\u001b[0m\u001b[0m\n\u001b[0m\u001b[1;32m   1090\u001b[0m             \u001b[0;32mexcept\u001b[0m\u001b[0;34m:\u001b[0m\u001b[0;34m\u001b[0m\u001b[0;34m\u001b[0m\u001b[0m\n\u001b[1;32m   1091\u001b[0m                 \u001b[0merr\u001b[0m \u001b[0;34m=\u001b[0m \u001b[0msys\u001b[0m\u001b[0;34m.\u001b[0m\u001b[0mexc_info\u001b[0m\u001b[0;34m(\u001b[0m\u001b[0;34m)\u001b[0m\u001b[0;34m[\u001b[0m\u001b[0;36m1\u001b[0m\u001b[0;34m]\u001b[0m\u001b[0;34m\u001b[0m\u001b[0;34m\u001b[0m\u001b[0m\n",
            "\u001b[0;32m~/anaconda3/envs/beginnersPPO/lib/python3.7/site-packages/pyomo/core/base/constraint.py\u001b[0m in \u001b[0;36mconstruct\u001b[0;34m(self, data)\u001b[0m\n\u001b[1;32m    749\u001b[0m                 \u001b[0;31m# Bypass the index validation and create the member directly\u001b[0m\u001b[0;34m\u001b[0m\u001b[0;34m\u001b[0m\u001b[0;34m\u001b[0m\u001b[0m\n\u001b[1;32m    750\u001b[0m                 \u001b[0;32mfor\u001b[0m \u001b[0mindex\u001b[0m \u001b[0;32min\u001b[0m \u001b[0mself\u001b[0m\u001b[0;34m.\u001b[0m\u001b[0mindex_set\u001b[0m\u001b[0;34m(\u001b[0m\u001b[0;34m)\u001b[0m\u001b[0;34m:\u001b[0m\u001b[0;34m\u001b[0m\u001b[0;34m\u001b[0m\u001b[0m\n\u001b[0;32m--> 751\u001b[0;31m                     \u001b[0mself\u001b[0m\u001b[0;34m.\u001b[0m\u001b[0m_setitem_when_not_present\u001b[0m\u001b[0;34m(\u001b[0m\u001b[0mindex\u001b[0m\u001b[0;34m,\u001b[0m \u001b[0mrule\u001b[0m\u001b[0;34m(\u001b[0m\u001b[0mblock\u001b[0m\u001b[0;34m,\u001b[0m \u001b[0mindex\u001b[0m\u001b[0;34m)\u001b[0m\u001b[0;34m)\u001b[0m\u001b[0;34m\u001b[0m\u001b[0;34m\u001b[0m\u001b[0m\n\u001b[0m\u001b[1;32m    752\u001b[0m         \u001b[0;32mexcept\u001b[0m \u001b[0mException\u001b[0m\u001b[0;34m:\u001b[0m\u001b[0;34m\u001b[0m\u001b[0;34m\u001b[0m\u001b[0m\n\u001b[1;32m    753\u001b[0m             \u001b[0merr\u001b[0m \u001b[0;34m=\u001b[0m \u001b[0msys\u001b[0m\u001b[0;34m.\u001b[0m\u001b[0mexc_info\u001b[0m\u001b[0;34m(\u001b[0m\u001b[0;34m)\u001b[0m\u001b[0;34m[\u001b[0m\u001b[0;36m1\u001b[0m\u001b[0;34m]\u001b[0m\u001b[0;34m\u001b[0m\u001b[0;34m\u001b[0m\u001b[0m\n",
            "\u001b[0;32m~/anaconda3/envs/beginnersPPO/lib/python3.7/site-packages/pyomo/core/base/initializer.py\u001b[0m in \u001b[0;36m__call__\u001b[0;34m(self, parent, idx)\u001b[0m\n\u001b[1;32m    251\u001b[0m             \u001b[0;32mreturn\u001b[0m \u001b[0mself\u001b[0m\u001b[0;34m.\u001b[0m\u001b[0m_fcn\u001b[0m\u001b[0;34m(\u001b[0m\u001b[0mparent\u001b[0m\u001b[0;34m,\u001b[0m \u001b[0;34m*\u001b[0m\u001b[0midx\u001b[0m\u001b[0;34m)\u001b[0m\u001b[0;34m\u001b[0m\u001b[0;34m\u001b[0m\u001b[0m\n\u001b[1;32m    252\u001b[0m         \u001b[0;32melse\u001b[0m\u001b[0;34m:\u001b[0m\u001b[0;34m\u001b[0m\u001b[0;34m\u001b[0m\u001b[0m\n\u001b[0;32m--> 253\u001b[0;31m             \u001b[0;32mreturn\u001b[0m \u001b[0mself\u001b[0m\u001b[0;34m.\u001b[0m\u001b[0m_fcn\u001b[0m\u001b[0;34m(\u001b[0m\u001b[0mparent\u001b[0m\u001b[0;34m,\u001b[0m \u001b[0midx\u001b[0m\u001b[0;34m)\u001b[0m\u001b[0;34m\u001b[0m\u001b[0;34m\u001b[0m\u001b[0m\n\u001b[0m\u001b[1;32m    254\u001b[0m \u001b[0;34m\u001b[0m\u001b[0m\n\u001b[1;32m    255\u001b[0m \u001b[0;34m\u001b[0m\u001b[0m\n",
            "\u001b[0;32m/tmp/ipykernel_28148/750455012.py\u001b[0m in \u001b[0;36m<lambda>\u001b[0;34m(m, t)\u001b[0m\n\u001b[1;32m     13\u001b[0m \u001b[0mm\u001b[0m\u001b[0;34m.\u001b[0m\u001b[0mobj\u001b[0m \u001b[0;34m=\u001b[0m \u001b[0mObjective\u001b[0m\u001b[0;34m(\u001b[0m\u001b[0mexpr\u001b[0m\u001b[0;34m=\u001b[0m\u001b[0mm\u001b[0m\u001b[0;34m.\u001b[0m\u001b[0mfuel\u001b[0m\u001b[0;34m,\u001b[0m \u001b[0msense\u001b[0m\u001b[0;34m=\u001b[0m\u001b[0mminimize\u001b[0m\u001b[0;34m)\u001b[0m\u001b[0;34m\u001b[0m\u001b[0;34m\u001b[0m\u001b[0m\n\u001b[1;32m     14\u001b[0m \u001b[0;34m\u001b[0m\u001b[0m\n\u001b[0;32m---> 15\u001b[0;31m \u001b[0mm\u001b[0m\u001b[0;34m.\u001b[0m\u001b[0mode1\u001b[0m \u001b[0;34m=\u001b[0m \u001b[0mConstraint\u001b[0m\u001b[0;34m(\u001b[0m\u001b[0mm\u001b[0m\u001b[0;34m.\u001b[0m\u001b[0mt\u001b[0m\u001b[0;34m,\u001b[0m \u001b[0mrule\u001b[0m \u001b[0;34m=\u001b[0m \u001b[0;32mlambda\u001b[0m \u001b[0mm\u001b[0m\u001b[0;34m,\u001b[0m \u001b[0mt\u001b[0m\u001b[0;34m:\u001b[0m \u001b[0mm\u001b[0m\u001b[0;34m.\u001b[0m\u001b[0mm\u001b[0m\u001b[0;34m[\u001b[0m\u001b[0mt\u001b[0m\u001b[0;34m]\u001b[0m\u001b[0;34m*\u001b[0m\u001b[0mm\u001b[0m\u001b[0;34m.\u001b[0m\u001b[0ma\u001b[0m\u001b[0;34m[\u001b[0m\u001b[0mt\u001b[0m\u001b[0;34m]\u001b[0m\u001b[0;34m/\u001b[0m\u001b[0mm\u001b[0m\u001b[0;34m.\u001b[0m\u001b[0mT\u001b[0m\u001b[0;34m**\u001b[0m\u001b[0;36m2\u001b[0m \u001b[0;34m==\u001b[0m \u001b[0;34m-\u001b[0m\u001b[0mm\u001b[0m\u001b[0;34m.\u001b[0m\u001b[0mm\u001b[0m\u001b[0;34m[\u001b[0m\u001b[0mt\u001b[0m\u001b[0;34m]\u001b[0m\u001b[0;34m*\u001b[0m\u001b[0mg\u001b[0m \u001b[0;34m+\u001b[0m \u001b[0mv_exhaust\u001b[0m\u001b[0;34m*\u001b[0m\u001b[0mm\u001b[0m\u001b[0;34m.\u001b[0m\u001b[0mu\u001b[0m\u001b[0;34m[\u001b[0m\u001b[0mt\u001b[0m\u001b[0;34m]\u001b[0m\u001b[0;34m)\u001b[0m\u001b[0;34m\u001b[0m\u001b[0;34m\u001b[0m\u001b[0m\n\u001b[0m\u001b[1;32m     16\u001b[0m \u001b[0mm\u001b[0m\u001b[0;34m.\u001b[0m\u001b[0mode2\u001b[0m \u001b[0;34m=\u001b[0m \u001b[0mConstraint\u001b[0m\u001b[0;34m(\u001b[0m\u001b[0mm\u001b[0m\u001b[0;34m.\u001b[0m\u001b[0mt\u001b[0m\u001b[0;34m,\u001b[0m \u001b[0mrule\u001b[0m \u001b[0;34m=\u001b[0m \u001b[0;32mlambda\u001b[0m \u001b[0mm\u001b[0m\u001b[0;34m,\u001b[0m \u001b[0mt\u001b[0m\u001b[0;34m:\u001b[0m \u001b[0mm\u001b[0m\u001b[0;34m.\u001b[0m\u001b[0mmdot\u001b[0m\u001b[0;34m[\u001b[0m\u001b[0mt\u001b[0m\u001b[0;34m]\u001b[0m\u001b[0;34m/\u001b[0m\u001b[0mm\u001b[0m\u001b[0;34m.\u001b[0m\u001b[0mT\u001b[0m \u001b[0;34m==\u001b[0m \u001b[0;34m-\u001b[0m\u001b[0mm\u001b[0m\u001b[0;34m.\u001b[0m\u001b[0mu\u001b[0m\u001b[0;34m[\u001b[0m\u001b[0mt\u001b[0m\u001b[0;34m]\u001b[0m\u001b[0;34m)\u001b[0m\u001b[0;34m\u001b[0m\u001b[0;34m\u001b[0m\u001b[0m\n\u001b[1;32m     17\u001b[0m \u001b[0;34m\u001b[0m\u001b[0m\n",
            "\u001b[0;31mNameError\u001b[0m: name 'v_exhaust' is not defined"
          ]
        }
      ],
      "source": [
        "m = ConcreteModel()\n",
        "m.t = ContinuousSet(bounds=(0, 1))\n",
        "m.h = Var(m.t, domain=NonNegativeReals)\n",
        "m.m = Var(m.t)\n",
        "m.u = Var(m.t, bounds=(0, u_max))\n",
        "m.T = Var(bounds=(50,3000))\n",
        "\n",
        "m.v = DerivativeVar(m.h, wrt=m.t)\n",
        "m.a = DerivativeVar(m.v, wrt=m.t)\n",
        "m.mdot = DerivativeVar(m.m, wrt=m.t)\n",
        "\n",
        "m.fuel = Integral(m.t, wrt=m.t, rule = lambda m, t: m.u[t]*m.T)\n",
        "m.obj = Objective(expr=m.fuel, sense=minimize)\n",
        "\n",
        "m.ode1 = Constraint(m.t, rule = lambda m, t: m.m[t]*m.a[t]/m.T**2 == -m.m[t]*g + v_exhaust*m.u[t])\n",
        "m.ode2 = Constraint(m.t, rule = lambda m, t: m.mdot[t]/m.T == -m.u[t])\n",
        "\n",
        "m.h[0].fix(h_initial)\n",
        "m.v[0].fix(-v_initial)\n",
        "m.m[0].fix(m_total)\n",
        "\n",
        "m.h[1].fix(0)    # land on surface\n",
        "m.v[1].fix(0)    # soft landing\n",
        "\n",
        "def solve(m):\n",
        "    TransformationFactory('dae.finite_difference').apply_to(m, nfe=50, scheme='FORWARD')\n",
        "    SolverFactory('ipopt').solve(m)\n",
        "\n",
        "    m_nonfuel = m_ascent_dry + m_ascent_fuel + m_descent_dry\n",
        "    \n",
        "    tsim = [t*m.T() for t in m.t]\n",
        "    hsim = [m.h[t]() for t in m.t]\n",
        "    usim = [m.u[t]() for t in m.t]\n",
        "    fsim = [m.m[t]() - m_nonfuel for t in m.t]\n",
        "\n",
        "    plt.figure(figsize=(8,6))\n",
        "    plt.subplot(3,1,1)\n",
        "    plt.plot(tsim, hsim)\n",
        "    plt.title('altitude')\n",
        "    plt.ylabel('meters')\n",
        "    plt.legend(['mission length = ' + str(round(m.T(),1)) + ' seconds'])\n",
        "    plt.grid(True)\n",
        "\n",
        "    plt.subplot(3,1,2)\n",
        "    plt.plot(tsim, usim)\n",
        "    plt.title('engine mass flow')\n",
        "    plt.ylabel('kg/sec')\n",
        "    plt.legend(['fuel burned = ' + str(round(m.fuel(),1)) + ' kg'])\n",
        "    plt.grid(True)\n",
        "\n",
        "    plt.subplot(3,1,3)\n",
        "    plt.plot(tsim, fsim)\n",
        "    plt.title('fuel remaining')\n",
        "    plt.xlabel('time / seconds')\n",
        "    plt.ylabel('kg')\n",
        "    plt.legend(['fuel remaining = ' + str(round(fsim[-1],2)) + ' kg'])\n",
        "    plt.grid(True)\n",
        "\n",
        "    plt.tight_layout()\n",
        "\n",
        "solve(m)"
      ]
    }
  ],
  "metadata": {
    "colab": {
      "collapsed_sections": [],
      "name": "06.04-Soft-Landing-Apollo-11-on-the-Moon.ipynb",
      "provenance": [],
      "toc_visible": true
    },
    "kernelspec": {
      "display_name": "Python 3.7.12 ('beginnersPPO': conda)",
      "language": "python",
      "name": "python3"
    },
    "language_info": {
      "codemirror_mode": {
        "name": "ipython",
        "version": 3
      },
      "file_extension": ".py",
      "mimetype": "text/x-python",
      "name": "python",
      "nbconvert_exporter": "python",
      "pygments_lexer": "ipython3",
      "version": "3.7.12"
    },
    "vscode": {
      "interpreter": {
        "hash": "6bb16cade9d36141ae9213d884fb1ae293e1d9fda2be68716a113c15fbf181a7"
      }
    }
  },
  "nbformat": 4,
  "nbformat_minor": 0
}
