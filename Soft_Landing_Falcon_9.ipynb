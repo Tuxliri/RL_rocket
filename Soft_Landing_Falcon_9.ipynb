{
  "cells": [
    {
      "cell_type": "markdown",
      "metadata": {
        "id": "Pn0CpVNa-fa8",
        "nbpages": {
          "level": 0,
          "link": "[](https://jckantor.github.io/ND-Pyomo-Cookbook/06.04-Soft-Landing-Apollo-11-on-the-Moon.html)",
          "section": ""
        }
      },
      "source": [
        "<!--NOTEBOOK_HEADER-->\n",
        "*This notebook contains material from [ND-Pyomo-Cookbook](https://jckantor.github.io/ND-Pyomo-Cookbook);\n",
        "content is available [on Github](https://github.com/jckantor/ND-Pyomo-Cookbook.git).*\n",
        "*The text is released under the [CC-BY-NC-ND-4.0 license](https://creativecommons.org/licenses/by-nc-nd/4.0/legalcode),\n",
        "and code is released under the [MIT license](https://opensource.org/licenses/MIT).*"
      ]
    },
    {
      "cell_type": "markdown",
      "metadata": {
        "id": "duAPa1uV-fa9",
        "nbpages": {
          "level": 0,
          "link": "[](https://jckantor.github.io/ND-Pyomo-Cookbook/06.04-Soft-Landing-Apollo-11-on-the-Moon.html)",
          "section": ""
        }
      },
      "source": [
        "<!--NAVIGATION-->\n",
        "< [6.3 Path Planning for a Simple Car](https://jckantor.github.io/ND-Pyomo-Cookbook/06.03-Path-Planning-for-a-Simple-Car.html) | [Contents](toc.html) | [Tag Index](tag_index.html) | [6.5 Ascent from Lunar Surface](https://jckantor.github.io/ND-Pyomo-Cookbook/06.05-Launching-Apollo-11-from-the-Moon.html) ><p><a href=\"https://colab.research.google.com/github/jckantor/ND-Pyomo-Cookbook/blob/master/docs/06.04-Soft-Landing-Apollo-11-on-the-Moon.ipynb\"> <img align=\"left\" src=\"https://colab.research.google.com/assets/colab-badge.svg\" alt=\"Open in Colab\" title=\"Open in Google Colaboratory\"></a><p><a href=\"https://jckantor.github.io/ND-Pyomo-Cookbook/06.04-Soft-Landing-Apollo-11-on-the-Moon.ipynb\"> <img align=\"left\" src=\"https://img.shields.io/badge/Github-Download-blue.svg\" alt=\"Download\" title=\"Download Notebook\"></a>"
      ]
    },
    {
      "cell_type": "markdown",
      "metadata": {
        "id": "8C_vr6C0Jf8I",
        "nbpages": {
          "level": 1,
          "link": "[6.4 Soft Landing Apollo 11 on the Moon](https://jckantor.github.io/ND-Pyomo-Cookbook/06.04-Soft-Landing-Apollo-11-on-the-Moon.html#6.4-Soft-Landing-Apollo-11-on-the-Moon)",
          "section": "6.4 Soft Landing Apollo 11 on the Moon"
        }
      },
      "source": [
        "# 6.4 Soft Landing Apollo 11 on the Moon\n",
        "\n",
        "Keywords: optimal control, ipopt usage, dae, differential-algebraic equations, rescaling time"
      ]
    },
    {
      "cell_type": "markdown",
      "metadata": {
        "id": "IJIPVYupiSrk",
        "nbpages": {
          "level": 1,
          "link": "[6.4 Soft Landing Apollo 11 on the Moon](https://jckantor.github.io/ND-Pyomo-Cookbook/06.04-Soft-Landing-Apollo-11-on-the-Moon.html#6.4-Soft-Landing-Apollo-11-on-the-Moon)",
          "section": "6.4 Soft Landing Apollo 11 on the Moon"
        }
      },
      "source": [
        "Landing a rocket on the surface of a planet was once a staple of science fiction, and then realized in the 1960's through multiple manned and unmanned landings on the moon. It's hard to overestimate the degree to which these missions inspired a new generation \n",
        "\n",
        "![](https://upload.wikimedia.org/wikipedia/commons/thumb/c/cf/Eagle_In_Lunar_Orbit_-_GPN-2000-001210.jpg/368px-Eagle_In_Lunar_Orbit_-_GPN-2000-001210.jpg)\n",
        "\n",
        "<a title=\"NASA Michael Collins [Public domain], via Wikimedia Commons\" href=\"https://commons.wikimedia.org/wiki/File:Eagle_In_Lunar_Orbit_-_GPN-2000-001210.jpg\"></a>\n",
        "NASA Michael Collins [Public domain]\n",
        "\n",
        "**Rocket Landing Videos** (these never get old):\n",
        "\n",
        "* [Apollo 11 Landing on the Moon, July 20, 1969](https://youtu.be/k_OD2V6fMLQ)\n",
        "* [SpaceX Falcon Heavy Side Boosters Landing at Kennedy Space Center, February 6, 2018 ](https://youtu.be/u0-pfzKbh2k)\n",
        "* [Blue Origin, November 24, 2014](https://youtu.be/9pillaOxGCo?t=103)\n",
        "\n",
        "Inspired by these examples, this notebook uses Pyomo and a simple model of a rocket to compute a control policy for a soft landing. The parameters used correspond to the descent of the Apollo 11 Lunar Module to the moon on July 20, 1969."
      ]
    },
    {
      "cell_type": "markdown",
      "metadata": {
        "id": "r1DkXPM5wif0",
        "nbpages": {
          "level": 2,
          "link": "[6.4.1 Imports](https://jckantor.github.io/ND-Pyomo-Cookbook/06.04-Soft-Landing-Apollo-11-on-the-Moon.html#6.4.1-Imports)",
          "section": "6.4.1 Imports"
        }
      },
      "source": [
        "## 6.4.1 Imports"
      ]
    },
    {
      "cell_type": "code",
      "execution_count": 2,
      "metadata": {
        "colab": {
          "base_uri": "https://localhost:8080/"
        },
        "id": "bR8Myhw41z4E",
        "nbpages": {
          "level": 2,
          "link": "[6.4.1 Imports](https://jckantor.github.io/ND-Pyomo-Cookbook/06.04-Soft-Landing-Apollo-11-on-the-Moon.html#6.4.1-Imports)",
          "section": "6.4.1 Imports"
        },
        "outputId": "d2dc038b-00c5-488d-e2bb-59814957e427"
      },
      "outputs": [
        {
          "name": "stdout",
          "output_type": "stream",
          "text": [
            "usage: conda install [-h] [--revision REVISION] [-n ENVIRONMENT | -p PATH]\n",
            "                     [-c CHANNEL] [--use-local] [--override-channels]\n",
            "                     [--repodata-fn REPODATA_FNS] [--strict-channel-priority]\n",
            "                     [--no-channel-priority] [--no-deps | --only-deps]\n",
            "                     [--no-pin] [--copy] [-C] [-k] [--offline] [-d] [--json]\n",
            "                     [-q] [-v] [-y] [--download-only] [--show-channel-urls]\n",
            "                     [--file FILE]\n",
            "                     [--experimental-solver {classic,libmamba,libmamba-draft}]\n",
            "                     [--force-reinstall]\n",
            "                     [--freeze-installed | --update-deps | -S | --update-all | --update-specs]\n",
            "                     [-m] [--clobber] [--dev]\n",
            "                     [package_spec ...]\n",
            "conda install: error: argument -c/--channel: expected one argument\n"
          ]
        },
        {
          "ename": "AssertionError",
          "evalue": "",
          "output_type": "error",
          "traceback": [
            "\u001b[0;31m---------------------------------------------------------------------------\u001b[0m",
            "\u001b[0;31mAssertionError\u001b[0m                            Traceback (most recent call last)",
            "\u001b[0;32m/tmp/ipykernel_9167/908851155.py\u001b[0m in \u001b[0;36m<module>\u001b[0;34m\u001b[0m\n\u001b[1;32m     22\u001b[0m             \u001b[0;32mpass\u001b[0m\u001b[0;34m\u001b[0m\u001b[0;34m\u001b[0m\u001b[0m\n\u001b[1;32m     23\u001b[0m \u001b[0;34m\u001b[0m\u001b[0m\n\u001b[0;32m---> 24\u001b[0;31m \u001b[0;32massert\u001b[0m\u001b[0;34m(\u001b[0m\u001b[0mshutil\u001b[0m\u001b[0;34m.\u001b[0m\u001b[0mwhich\u001b[0m\u001b[0;34m(\u001b[0m\u001b[0;34m\"ipopt\"\u001b[0m\u001b[0;34m)\u001b[0m \u001b[0;32mor\u001b[0m \u001b[0mos\u001b[0m\u001b[0;34m.\u001b[0m\u001b[0mpath\u001b[0m\u001b[0;34m.\u001b[0m\u001b[0misfile\u001b[0m\u001b[0;34m(\u001b[0m\u001b[0;34m\"ipopt\"\u001b[0m\u001b[0;34m)\u001b[0m\u001b[0;34m)\u001b[0m\u001b[0;34m\u001b[0m\u001b[0;34m\u001b[0m\u001b[0m\n\u001b[0m\u001b[1;32m     25\u001b[0m \u001b[0;32mfrom\u001b[0m \u001b[0mpyomo\u001b[0m\u001b[0;34m.\u001b[0m\u001b[0menviron\u001b[0m \u001b[0;32mimport\u001b[0m \u001b[0;34m*\u001b[0m\u001b[0;34m\u001b[0m\u001b[0;34m\u001b[0m\u001b[0m\n\u001b[1;32m     26\u001b[0m \u001b[0;32mfrom\u001b[0m \u001b[0mpyomo\u001b[0m\u001b[0;34m.\u001b[0m\u001b[0mdae\u001b[0m \u001b[0;32mimport\u001b[0m \u001b[0;34m*\u001b[0m\u001b[0;34m\u001b[0m\u001b[0;34m\u001b[0m\u001b[0m\n",
            "\u001b[0;31mAssertionError\u001b[0m: "
          ]
        }
      ],
      "source": [
        "%matplotlib inline\n",
        "\n",
        "import matplotlib.pyplot as plt\n",
        "import numpy as np\n",
        "\n",
        "import shutil\n",
        "import sys\n",
        "import os.path\n",
        "\n",
        "if not shutil.which(\"pyomo\"):\n",
        "    !pip install -q pyomo\n",
        "    assert(shutil.which(\"pyomo\"))\n",
        "\n",
        "if not (shutil.which(\"ipopt\") or os.path.isfile(\"ipopt\")):\n",
        "    if \"google.colab\" in sys.modules:\n",
        "        !wget -N -q \"https://ampl.com/dl/open/ipopt/ipopt-linux64.zip\"\n",
        "        !unzip -o -q ipopt-linux64\n",
        "    else:\n",
        "        try:\n",
        "            !conda install -c -y conda-forge ipopt \n",
        "        except:\n",
        "            pass\n",
        "\n",
        "assert(shutil.which(\"ipopt\") or os.path.isfile(\"ipopt\"))\n",
        "from pyomo.environ import *\n",
        "from pyomo.dae import *"
      ]
    },
    {
      "cell_type": "markdown",
      "metadata": {
        "id": "6VFVBpH9pt0M",
        "nbpages": {
          "level": 2,
          "link": "[6.4.2 Version 1: Vertical dynamics of a rocket with constant mass](https://jckantor.github.io/ND-Pyomo-Cookbook/06.04-Soft-Landing-Apollo-11-on-the-Moon.html#6.4.2-Version-1:-Vertical-dynamics-of-a-rocket-with-constant-mass)",
          "section": "6.4.2 Version 1: Vertical dynamics of a rocket with constant mass"
        }
      },
      "source": [
        "## 6.4.2 Version 1: Vertical dynamics of a rocket with constant mass\n",
        "\n",
        "For a rocket with a mass $m$ in vertical flight at altitude $h$, a momentum balance yields the model\n",
        "\n",
        "\\begin{align*}\n",
        "m\\frac{d^2h}{dt^2} & = - m g + v_eu \\\\\n",
        "\\end{align*}\n",
        "\n",
        "where $u$ is the mass flow of propellant and $v_e$ is the velocity of the exhaust relative to the rocket. In this first attempt at modeling and control we will neglect the change in rocket mass due to fuel burn.\n",
        "\n",
        "![](https://upload.wikimedia.org/wikipedia/commons/thumb/1/13/LM_illustration_02-IT.png/368px-LM_illustration_02-IT.png)\n",
        "\n",
        "<a title=\"LM_illustration_02.jpg: NASA Marshall Space Flight Center (NASA-MSFC)\n",
        "derivative work: Adert [Public domain], via Wikimedia Commons\" href=\"https://commons.wikimedia.org/wiki/File:LM_illustration_02-IT.png\"></a>\n",
        "\n",
        "LM_illustration_02.jpg: NASA Marshall Space Flight Center (NASA-MSFC)derivative work: Adert [Public domain]\n",
        "\n",
        "The complete Apollo lunar module was composed of descent and ascent stages, each containing a rocket engine and associated fuel tanks. The descent stage carried the entire assembly to the lunar surface.  The total mass $m$ in the above model therefore consists of the dry and fuel masses of both stages. For the purpose of analyzing the descent of the lunar module to the lunar surface, the 'dry' mass consists of the total mass of the ascent stage plus the dry mass of the descent stage. \n",
        "\n",
        "The following data is for the [Apollo 11 Lunar Module](https://nssdc.gsfc.nasa.gov/nmc/spacecraft/display.action?id=1969-059C)."
      ]
    },
    {
      "cell_type": "code",
      "execution_count": null,
      "metadata": {
        "id": "r-GXDIYS4bao",
        "nbpages": {
          "level": 2,
          "link": "[6.4.2 Version 1: Vertical dynamics of a rocket with constant mass](https://jckantor.github.io/ND-Pyomo-Cookbook/06.04-Soft-Landing-Apollo-11-on-the-Moon.html#6.4.2-Version-1:-Vertical-dynamics-of-a-rocket-with-constant-mass)",
          "section": "6.4.2 Version 1: Vertical dynamics of a rocket with constant mass"
        }
      },
      "outputs": [],
      "source": [
        "# lunar module\n",
        "m_ascent_dry = 2445.0          # kg mass of ascent stage without fuel\n",
        "m_ascent_fuel = 2376.0         # kg mass of ascent stage fuel\n",
        "m_descent_dry = 2034.0         # kg mass of descent stage without fuel\n",
        "m_descent_fuel = 8248.0        # kg mass of descent stage fuel\n",
        "\n",
        "m_fuel = m_descent_fuel\n",
        "m_dry = m_ascent_dry + m_ascent_fuel + m_descent_dry\n",
        "m_total = m_dry + m_fuel\n",
        "\n",
        "# descent engine characteristics\n",
        "v_exhaust = 3050.0             # m/s\n",
        "u_max = 45050.0/v_exhaust      # 45050 newtons / exhaust velocity\n",
        "\n",
        "# landing mission specifications\n",
        "h_initial = 100000.0           # meters\n",
        "v_initial = 1520               # orbital velocity m/s\n",
        "g = 1.62                       # m/s**2"
      ]
    },
    {
      "cell_type": "markdown",
      "metadata": {
        "id": "xCL3kAIJ0hDU",
        "nbpages": {
          "level": 3,
          "link": "[6.4.2.1 First attempt at a solution](https://jckantor.github.io/ND-Pyomo-Cookbook/06.04-Soft-Landing-Apollo-11-on-the-Moon.html#6.4.2.1-First-attempt-at-a-solution)",
          "section": "6.4.2.1 First attempt at a solution"
        }
      },
      "source": [
        "### 6.4.2.1 First attempt at a solution\n",
        "\n",
        "For this first attempt at a solution, we will choose an arbitrary value for the length of the landing mission. The integration will start with the initial conditions, and we'll see what happens."
      ]
    },
    {
      "cell_type": "code",
      "execution_count": null,
      "metadata": {
        "colab": {
          "base_uri": "https://localhost:8080/",
          "height": 418
        },
        "id": "O10AnUPfr9GY",
        "nbpages": {
          "level": 3,
          "link": "[6.4.2.1 First attempt at a solution](https://jckantor.github.io/ND-Pyomo-Cookbook/06.04-Soft-Landing-Apollo-11-on-the-Moon.html#6.4.2.1-First-attempt-at-a-solution)",
          "section": "6.4.2.1 First attempt at a solution"
        },
        "outputId": "1146cbf9-44d6-46c0-f229-1fe12eefd8d1"
      },
      "outputs": [],
      "source": [
        "t_f = 100\n",
        "\n",
        "m = ConcreteModel()\n",
        "m.t = ContinuousSet(bounds=(0, t_f))\n",
        "m.h = Var(m.t)\n",
        "m.u = Var(m.t, domain=NonNegativeReals)\n",
        "\n",
        "m.v = DerivativeVar(m.h, wrt=m.t)\n",
        "m.a = DerivativeVar(m.v, wrt=m.t)\n",
        "\n",
        "m.ode1 = Constraint(m.t, rule = lambda m, t: m_total*m.a[t] == -m_total*g + v_exhaust*m.u[t])\n",
        "\n",
        "m.h[0].fix(h_initial)\n",
        "m.v[0].fix(-v_initial)\n",
        "\n",
        "def solve(m):\n",
        "  \n",
        "    TransformationFactory('dae.finite_difference').apply_to(m, nfe=200, scheme='FORWARD')\n",
        "    SolverFactory('ipopt').solve(m)\n",
        "    \n",
        "    tsim = [t for t in m.t]\n",
        "    hsim = [m.h[t]() for t in m.t]\n",
        "    usim = [m.u[t]() for t in m.t]\n",
        "\n",
        "    plt.figure(figsize=(10, 8))\n",
        "    plt.subplot(3,1,1)\n",
        "    plt.plot(tsim, hsim)\n",
        "    plt.title('altitude')\n",
        "    plt.xlabel('time / seconds')\n",
        "    plt.ylabel('meters')\n",
        "    plt.grid(True)\n",
        "\n",
        "    plt.subplot(3,1,2)\n",
        "    plt.plot(tsim, usim)\n",
        "    plt.title('engine mass flow')\n",
        "    plt.xlabel('time / seconds')\n",
        "    plt.ylabel('kg/sec')\n",
        "    plt.grid(True)\n",
        "\n",
        "    plt.tight_layout()\n",
        "\n",
        "solve(m)"
      ]
    },
    {
      "cell_type": "markdown",
      "metadata": {
        "id": "oKNqzok9f6U8",
        "nbpages": {
          "level": 3,
          "link": "[6.4.2.1 First attempt at a solution](https://jckantor.github.io/ND-Pyomo-Cookbook/06.04-Soft-Landing-Apollo-11-on-the-Moon.html#6.4.2.1-First-attempt-at-a-solution)",
          "section": "6.4.2.1 First attempt at a solution"
        }
      },
      "source": [
        "This first attempt at a solution included no specification related to landing on the lunar surface. The solver reported a solution where the engine doesn't fire, and the lunar module crashes into the lunar surface at full speed about 66 seconds after the start of the descent mission."
      ]
    },
    {
      "cell_type": "markdown",
      "metadata": {
        "id": "rRPLHyG16Qfo",
        "nbpages": {
          "level": 3,
          "link": "[6.4.2.2 Land on the surface, not above or below the surface.](https://jckantor.github.io/ND-Pyomo-Cookbook/06.04-Soft-Landing-Apollo-11-on-the-Moon.html#6.4.2.2-Land-on-the-surface,-not-above-or-below-the-surface.)",
          "section": "6.4.2.2 Land on the surface, not above or below the surface."
        }
      },
      "source": [
        "### 6.4.2.2 Land on the surface, not above or below the surface."
      ]
    },
    {
      "cell_type": "markdown",
      "metadata": {
        "id": "1LlcohOc1IqZ",
        "nbpages": {
          "level": 3,
          "link": "[6.4.2.2 Land on the surface, not above or below the surface.](https://jckantor.github.io/ND-Pyomo-Cookbook/06.04-Soft-Landing-Apollo-11-on-the-Moon.html#6.4.2.2-Land-on-the-surface,-not-above-or-below-the-surface.)",
          "section": "6.4.2.2 Land on the surface, not above or below the surface."
        }
      },
      "source": [
        "The mission crashed!  It's clear now that we haven't fully specified the desired outcome of the mission.  Let's start by specifying the final condition as being on the surface\n",
        "\n",
        "$$h(t_f) = 0$$\n",
        "\n",
        "This condition is implemented in Pyomo by fixing the terminal value of $h$."
      ]
    },
    {
      "cell_type": "code",
      "execution_count": null,
      "metadata": {
        "colab": {
          "base_uri": "https://localhost:8080/",
          "height": 226
        },
        "id": "WJzcGDHm1H2p",
        "nbpages": {
          "level": 3,
          "link": "[6.4.2.2 Land on the surface, not above or below the surface.](https://jckantor.github.io/ND-Pyomo-Cookbook/06.04-Soft-Landing-Apollo-11-on-the-Moon.html#6.4.2.2-Land-on-the-surface,-not-above-or-below-the-surface.)",
          "section": "6.4.2.2 Land on the surface, not above or below the surface."
        },
        "outputId": "678ca1bb-cad3-47e7-9471-666616c499b3"
      },
      "outputs": [],
      "source": [
        "t_f = 100\n",
        "\n",
        "m = ConcreteModel()\n",
        "m.t = ContinuousSet(bounds=(0, t_f))\n",
        "m.h = Var(m.t)\n",
        "m.u = Var(m.t, domain=NonNegativeReals)\n",
        "\n",
        "m.v = DerivativeVar(m.h, wrt=m.t)\n",
        "m.a = DerivativeVar(m.v, wrt=m.t)\n",
        "\n",
        "m.ode1 = Constraint(m.t, rule = lambda m, t: m_total*m.a[t] == -m_total*g + v_exhaust*m.u[t])\n",
        "\n",
        "m.h[0].fix(h_initial)\n",
        "m.v[0].fix(-v_initial)\n",
        "\n",
        "m.h[t_f].fix(0)    # land on surface\n",
        "\n",
        "solve(m)"
      ]
    },
    {
      "cell_type": "markdown",
      "metadata": {
        "id": "PoYrTis6hdhF",
        "nbpages": {
          "level": 3,
          "link": "[6.4.2.2 Land on the surface, not above or below the surface.](https://jckantor.github.io/ND-Pyomo-Cookbook/06.04-Soft-Landing-Apollo-11-on-the-Moon.html#6.4.2.2-Land-on-the-surface,-not-above-or-below-the-surface.)",
          "section": "6.4.2.2 Land on the surface, not above or below the surface."
        }
      },
      "source": [
        "The descent mission now finishes the descent at the lunar surface, but unfortunately arrives with sufficient velocity to still be considered a crash."
      ]
    },
    {
      "cell_type": "markdown",
      "metadata": {
        "id": "3S3MHmIt6ZTD",
        "nbpages": {
          "level": 3,
          "link": "[6.4.2.3 Make that a soft landing](https://jckantor.github.io/ND-Pyomo-Cookbook/06.04-Soft-Landing-Apollo-11-on-the-Moon.html#6.4.2.3-Make-that-a-soft-landing)",
          "section": "6.4.2.3 Make that a soft landing"
        }
      },
      "source": [
        "### 6.4.2.3 Make that a soft landing\n",
        "\n",
        "To ensure a soft landing, we also need to specify a terminal velocity.  The terminal conditions are now\n",
        "\n",
        "\\begin{align*}\n",
        "h(t_f) & = 0 \\\\\n",
        "v(t_f) & = 0\n",
        "\\end{align*}\n",
        "\n",
        "These conditions are implement by fixing terminal values of the associated Pyomo variables."
      ]
    },
    {
      "cell_type": "code",
      "execution_count": null,
      "metadata": {
        "colab": {
          "base_uri": "https://localhost:8080/",
          "height": 418
        },
        "id": "aukLNi483BJp",
        "nbpages": {
          "level": 3,
          "link": "[6.4.2.3 Make that a soft landing](https://jckantor.github.io/ND-Pyomo-Cookbook/06.04-Soft-Landing-Apollo-11-on-the-Moon.html#6.4.2.3-Make-that-a-soft-landing)",
          "section": "6.4.2.3 Make that a soft landing"
        },
        "outputId": "891b7988-7e54-4990-ca8f-2368e43371b4"
      },
      "outputs": [],
      "source": [
        "t_f = 100\n",
        "\n",
        "m = ConcreteModel()\n",
        "m.t = ContinuousSet(bounds=(0, t_f))\n",
        "m.h = Var(m.t)\n",
        "m.u = Var(m.t, domain=NonNegativeReals)\n",
        "\n",
        "m.v = DerivativeVar(m.h, wrt=m.t)\n",
        "m.a = DerivativeVar(m.v, wrt=m.t)\n",
        "\n",
        "m.ode1 = Constraint(m.t, rule = lambda m, t: m_total*m.a[t] == -m_total*g + v_exhaust*m.u[t])\n",
        "\n",
        "m.h[0].fix(h_initial)\n",
        "m.v[0].fix(-v_initial)\n",
        "\n",
        "m.h[t_f].fix(0)    # land on surface\n",
        "m.v[t_f].fix(0)    # soft landing\n",
        "\n",
        "solve(m)"
      ]
    },
    {
      "cell_type": "markdown",
      "metadata": {
        "id": "_HGVey32iyk0",
        "nbpages": {
          "level": 3,
          "link": "[6.4.2.3 Make that a soft landing](https://jckantor.github.io/ND-Pyomo-Cookbook/06.04-Soft-Landing-Apollo-11-on-the-Moon.html#6.4.2.3-Make-that-a-soft-landing)",
          "section": "6.4.2.3 Make that a soft landing"
        }
      },
      "source": [
        "The lunar module now is now successfully landing on the lunar surface, but the fuel flow requirement exceeds the maximum capacity of the descent engine."
      ]
    },
    {
      "cell_type": "markdown",
      "metadata": {
        "id": "Yto7Dr_M78yh",
        "nbpages": {
          "level": 3,
          "link": "[6.4.2.4 Restrict fuel flow to engine capacity](https://jckantor.github.io/ND-Pyomo-Cookbook/06.04-Soft-Landing-Apollo-11-on-the-Moon.html#6.4.2.4-Restrict-fuel-flow-to-engine-capacity)",
          "section": "6.4.2.4 Restrict fuel flow to engine capacity"
        }
      },
      "source": [
        "### 6.4.2.4 Restrict fuel flow to engine capacity\n",
        "\n",
        "The next step is establish constraints on the control action by limiting fuel flow to the mass flow limits of the descent engine.\n",
        "\n",
        "$$ 0 \\leq u(t) \\leq u_{max}$$\n",
        "\n",
        "Since less thrust is available, we may need to extend the length of the landing mission to find a feasible solution to the optimization problem."
      ]
    },
    {
      "cell_type": "code",
      "execution_count": null,
      "metadata": {
        "colab": {
          "base_uri": "https://localhost:8080/",
          "height": 226
        },
        "id": "8tKc70HL68e5",
        "nbpages": {
          "level": 3,
          "link": "[6.4.2.4 Restrict fuel flow to engine capacity](https://jckantor.github.io/ND-Pyomo-Cookbook/06.04-Soft-Landing-Apollo-11-on-the-Moon.html#6.4.2.4-Restrict-fuel-flow-to-engine-capacity)",
          "section": "6.4.2.4 Restrict fuel flow to engine capacity"
        },
        "outputId": "3016a414-7bc8-4b6f-828a-ad93a36375d9"
      },
      "outputs": [],
      "source": [
        "t_f = 3000\n",
        "\n",
        "m = ConcreteModel()\n",
        "m.t = ContinuousSet(bounds=(0, t_f))\n",
        "m.h = Var(m.t)\n",
        "m.u = Var(m.t, bounds=(0, u_max))\n",
        "\n",
        "m.v = DerivativeVar(m.h, wrt=m.t)\n",
        "m.a = DerivativeVar(m.v, wrt=m.t)\n",
        "\n",
        "m.ode1 = Constraint(m.t, rule = lambda m, t: m_total*m.a[t] == -m_total*g + v_exhaust*m.u[t])\n",
        "\n",
        "m.h[0].fix(h_initial)\n",
        "m.v[0].fix(-v_initial)\n",
        "\n",
        "m.h[t_f].fix(0)    # land on surface\n",
        "m.v[t_f].fix(0)    # soft landing\n",
        "\n",
        "solve(m)"
      ]
    },
    {
      "cell_type": "markdown",
      "metadata": {
        "id": "rLx0_brhUzl9",
        "nbpages": {
          "level": 2,
          "link": "[6.4.3 Version 2: Rescaled model](https://jckantor.github.io/ND-Pyomo-Cookbook/06.04-Soft-Landing-Apollo-11-on-the-Moon.html#6.4.3-Version-2:-Rescaled-model)",
          "section": "6.4.3 Version 2: Rescaled model"
        }
      },
      "source": [
        "## 6.4.3 Version 2: Rescaled model\n",
        "\n",
        "At this point, it's now clear the first version of this model has run into some serious problems:\n",
        "\n",
        "* The calculated trajectory takes us through a crash landing and trip through the interior of the moon. \n",
        "* The engine thrust never goes to zero, even when the lander is at zero velocity and on the surface. The reason is that the model doesn't account for the reaction force of the surface on the lander. So the lander is really just hoovering rather than landing.\n",
        "* There is no obvious means of estimating the time required for the mission. \n",
        "\n",
        "Let's begin with the last issue. We will introduce an additional decision variable $T$ denoting the length of the mission. Time is then rescaled as\n",
        "\n",
        "$$\\tau = \\frac{t}{T}\\quad\\implies\\quad t =\\tau T$$\n",
        "\n",
        "The differential equation model then becomes\n",
        "\n",
        "\\begin{align*}\n",
        "\\frac{m}{T^2}\\frac{d^2h}{d\\tau^2} & = - m g + v_eu \\\\\n",
        "\\end{align*}\n",
        "\n",
        "The net result is that an additional variable, $T$, denoting the duration of the descent mission has been introduced into the optimization problem."
      ]
    },
    {
      "cell_type": "code",
      "execution_count": null,
      "metadata": {
        "colab": {
          "base_uri": "https://localhost:8080/",
          "height": 297
        },
        "id": "6KLIZeb8UzKG",
        "nbpages": {
          "level": 2,
          "link": "[6.4.3 Version 2: Rescaled model](https://jckantor.github.io/ND-Pyomo-Cookbook/06.04-Soft-Landing-Apollo-11-on-the-Moon.html#6.4.3-Version-2:-Rescaled-model)",
          "section": "6.4.3 Version 2: Rescaled model"
        },
        "outputId": "0c5bbab4-e109-43e9-f59c-b5045b676bda"
      },
      "outputs": [],
      "source": [
        "m = ConcreteModel()\n",
        "m.t = ContinuousSet(bounds=(0, 1))\n",
        "m.h = Var(m.t)\n",
        "m.u = Var(m.t, bounds=(0, u_max))\n",
        "m.T = Var(domain=NonNegativeReals)\n",
        "\n",
        "m.v = DerivativeVar(m.h, wrt=m.t)\n",
        "m.a = DerivativeVar(m.v, wrt=m.t)\n",
        "\n",
        "m.ode1 = Constraint(m.t, rule = lambda m, t: \n",
        "    m_total*m.a[t]/m.T**2 == -m_total*g + v_exhaust*m.u[t])\n",
        "\n",
        "m.h[0].fix(h_initial)\n",
        "m.v[0].fix(-v_initial)\n",
        "\n",
        "m.h[1].fix(0)    # land on surface\n",
        "m.v[1].fix(0)    # soft landing\n",
        "\n",
        "def solve(m):\n",
        "  \n",
        "    TransformationFactory('dae.finite_difference').apply_to(m, nfe=50, scheme='FORWARD')\n",
        "    SolverFactory('ipopt').solve(m)\n",
        "    \n",
        "    tsim = [t*m.T() for t in m.t]\n",
        "    hsim = [m.h[t]() for t in m.t]\n",
        "    usim = [m.u[t]() for t in m.t]\n",
        "\n",
        "    plt.subplot(2,1,1)\n",
        "    plt.plot(tsim, hsim)\n",
        "    plt.title('altitude')\n",
        "    plt.xlabel('time / seconds')\n",
        "    plt.ylabel('meters')\n",
        "    plt.legend(['mission length =' + str(round(m.T(),1)) + ' seconds'])\n",
        "    plt.grid(True)\n",
        "    \n",
        "    plt.subplot(2,1,2)\n",
        "    plt.plot(tsim, usim)\n",
        "    plt.title('engine mass flow')\n",
        "    plt.xlabel('time / seconds')\n",
        "    plt.ylabel('kg/sec')\n",
        "    plt.grid(True)\n",
        "    \n",
        "    plt.tight_layout()\n",
        "\n",
        "solve(m)"
      ]
    },
    {
      "cell_type": "markdown",
      "metadata": {
        "id": "UA9lSKK8dgch",
        "nbpages": {
          "level": 3,
          "link": "[6.4.3.1 How much fuel is burned?](https://jckantor.github.io/ND-Pyomo-Cookbook/06.04-Soft-Landing-Apollo-11-on-the-Moon.html#6.4.3.1-How-much-fuel-is-burned?)",
          "section": "6.4.3.1 How much fuel is burned?"
        }
      },
      "source": [
        "### 6.4.3.1 How much fuel is burned?\n",
        "\n",
        "Fuel consumption can be calculated as\n",
        "\n",
        "\\begin{align*}\n",
        "\\mbox{fuel consumed} & = \\int_0^T u(t)\\,dt  = T \\int_0^1u(\\tau)\\,d\\tau\n",
        "\\end{align*}"
      ]
    },
    {
      "cell_type": "code",
      "execution_count": null,
      "metadata": {
        "colab": {
          "base_uri": "https://localhost:8080/",
          "height": 297
        },
        "id": "3-y5SLyWdkyJ",
        "nbpages": {
          "level": 3,
          "link": "[6.4.3.1 How much fuel is burned?](https://jckantor.github.io/ND-Pyomo-Cookbook/06.04-Soft-Landing-Apollo-11-on-the-Moon.html#6.4.3.1-How-much-fuel-is-burned?)",
          "section": "6.4.3.1 How much fuel is burned?"
        },
        "outputId": "e2a05d80-d59f-4eb9-936a-3f106d10eb38"
      },
      "outputs": [],
      "source": [
        "m = ConcreteModel()\n",
        "m.t = ContinuousSet(bounds=(0, 1))\n",
        "m.h = Var(m.t)\n",
        "m.u = Var(m.t, bounds=(0, u_max))\n",
        "m.T = Var(domain=NonNegativeReals)\n",
        "\n",
        "m.v = DerivativeVar(m.h, wrt=m.t)\n",
        "m.a = DerivativeVar(m.v, wrt=m.t)\n",
        "\n",
        "m.fuel = Integral(m.t, wrt=m.t, rule = lambda m, t: m.u[t]*m.T)\n",
        "\n",
        "m.ode1 = Constraint(m.t, rule = lambda m, t: \n",
        "    m_total*m.a[t]/m.T**2 == -m_total*g + v_exhaust*m.u[t])\n",
        "\n",
        "m.h[0].fix(h_initial)\n",
        "m.v[0].fix(-v_initial)\n",
        "\n",
        "m.h[1].fix(0)    # land on surface\n",
        "m.v[1].fix(0)    # soft landing\n",
        "\n",
        "def solve(m):\n",
        "    TransformationFactory('dae.finite_difference').apply_to(m, nfe=50, scheme='FORWARD')\n",
        "    SolverFactory('ipopt').solve(m)\n",
        "    \n",
        "    tsim = [t*m.T() for t in m.t]\n",
        "    hsim = [m.h[t]() for t in m.t]\n",
        "    usim = [m.u[t]() for t in m.t]\n",
        "\n",
        "    plt.subplot(2,1,1)\n",
        "    plt.plot(tsim, hsim)\n",
        "    plt.title('altitude')\n",
        "    plt.ylabel('meters')\n",
        "    plt.legend(['mission length = ' + str(round(m.T(),1)) + ' seconds'])\n",
        "    plt.grid(True)\n",
        "\n",
        "    plt.subplot(2,1,2)\n",
        "    plt.plot(tsim, usim)\n",
        "    plt.title('engine mass flow')\n",
        "    plt.xlabel('time / seconds')\n",
        "    plt.ylabel('kg/sec')\n",
        "    plt.legend(['fuel burned = ' + str(round(m.fuel(),1)) + ' kg'])\n",
        "    plt.grid(True)\n",
        "\n",
        "    plt.tight_layout()\n",
        "\n",
        "solve(m)"
      ]
    },
    {
      "cell_type": "markdown",
      "metadata": {
        "id": "S7sI82VUcSii",
        "nbpages": {
          "level": 3,
          "link": "[6.4.3.2 Minimize fuel consumption](https://jckantor.github.io/ND-Pyomo-Cookbook/06.04-Soft-Landing-Apollo-11-on-the-Moon.html#6.4.3.2-Minimize-fuel-consumption)",
          "section": "6.4.3.2 Minimize fuel consumption"
        }
      },
      "source": [
        "### 6.4.3.2 Minimize fuel consumption\n",
        "\n",
        "$$\\min_{u(\\tau), T} T\\int_0^1 u(\\tau)\\, d\\tau$$"
      ]
    },
    {
      "cell_type": "code",
      "execution_count": null,
      "metadata": {
        "colab": {
          "base_uri": "https://localhost:8080/",
          "height": 389
        },
        "id": "Aefhp6mubQ5e",
        "nbpages": {
          "level": 3,
          "link": "[6.4.3.2 Minimize fuel consumption](https://jckantor.github.io/ND-Pyomo-Cookbook/06.04-Soft-Landing-Apollo-11-on-the-Moon.html#6.4.3.2-Minimize-fuel-consumption)",
          "section": "6.4.3.2 Minimize fuel consumption"
        },
        "outputId": "55b5b670-9705-468a-9676-4291bf890a28"
      },
      "outputs": [],
      "source": [
        "m = ConcreteModel()\n",
        "m.t = ContinuousSet(bounds=(0, 1))\n",
        "m.h = Var(m.t)\n",
        "m.u = Var(m.t,bounds=(0, u_max))\n",
        "m.T = Var(domain=NonNegativeReals)\n",
        "\n",
        "m.v = DerivativeVar(m.h, wrt=m.t)\n",
        "m.a = DerivativeVar(m.v, wrt=m.t)\n",
        "\n",
        "m.fuel = Integral(m.t, wrt=m.t, rule = lambda m, t: m.u[t]*m.T)\n",
        "m.obj = Objective(expr=m.fuel, sense=minimize)\n",
        "\n",
        "m.ode1 = Constraint(m.t, rule = lambda m, t: m_total*m.a[t]/m.T**2 == -m_total*g + v_exhaust*m.u[t])\n",
        "\n",
        "m.h[0].fix(h_initial)\n",
        "m.v[0].fix(-v_initial)\n",
        "\n",
        "m.h[1].fix(0)    # land on surface\n",
        "m.v[1].fix(0)    # soft landing\n",
        "\n",
        "solve(m)"
      ]
    },
    {
      "cell_type": "markdown",
      "metadata": {
        "id": "GsfF_3Do-oHb",
        "nbpages": {
          "level": 2,
          "link": "[6.4.4 Version 3: Rocket model](https://jckantor.github.io/ND-Pyomo-Cookbook/06.04-Soft-Landing-Apollo-11-on-the-Moon.html#6.4.4-Version-3:-Rocket-model)",
          "section": "6.4.4 Version 3: Rocket model"
        }
      },
      "source": [
        "## 6.4.4 Version 3: Rocket model\n",
        "\n",
        "The first version of the rocket model has run into a serious problem because it appears not to provide enough mass flow to the engine to prevent a crash landing. But that may be an artifact of the assumption of constant mass. For Apollo 11 Lunar Module, for example, the fuel in the descent engine comprises more than 50% of the total mass of the lander.\n",
        "\n",
        "For the second version of the rocket model, we augment the model with a mass balance for fuel. This yields \n",
        "\n",
        "\\begin{align*}\n",
        "\\frac{m(t)}{T^2}\\frac{d^2h}{d\\tau^2} & = - m(t)g + v_eu \\\\\n",
        "\\\\\n",
        "\\frac{1}{T}\\frac{dm}{d\\tau} & = -u\n",
        "\\end{align*}"
      ]
    },
    {
      "cell_type": "markdown",
      "metadata": {
        "id": "U-3yVHHsJJO4",
        "nbpages": {
          "level": 2,
          "link": "[6.4.4 Version 3: Rocket model](https://jckantor.github.io/ND-Pyomo-Cookbook/06.04-Soft-Landing-Apollo-11-on-the-Moon.html#6.4.4-Version-3:-Rocket-model)",
          "section": "6.4.4 Version 3: Rocket model"
        }
      },
      "source": [
        "At this point we need to worry about nonsensical answers to the optimization for minimum fuel. For this purpose we add upper and lower bounds on $T$ that should restrict the solver to meaningful solutions."
      ]
    },
    {
      "cell_type": "code",
      "execution_count": null,
      "metadata": {
        "colab": {
          "base_uri": "https://localhost:8080/",
          "height": 441
        },
        "id": "rE5Az9d-DWn9",
        "nbpages": {
          "level": 2,
          "link": "[6.4.4 Version 3: Rocket model](https://jckantor.github.io/ND-Pyomo-Cookbook/06.04-Soft-Landing-Apollo-11-on-the-Moon.html#6.4.4-Version-3:-Rocket-model)",
          "section": "6.4.4 Version 3: Rocket model"
        },
        "outputId": "9d9822fb-b349-471d-c47a-000c612c93fd"
      },
      "outputs": [],
      "source": [
        "m = ConcreteModel()\n",
        "m.t = ContinuousSet(bounds=(0, 1))\n",
        "m.h = Var(m.t, domain=NonNegativeReals)\n",
        "m.m = Var(m.t)\n",
        "m.u = Var(m.t, bounds=(0, u_max))\n",
        "m.T = Var(bounds=(50,3000))\n",
        "\n",
        "m.v = DerivativeVar(m.h, wrt=m.t)\n",
        "m.a = DerivativeVar(m.v, wrt=m.t)\n",
        "m.mdot = DerivativeVar(m.m, wrt=m.t)\n",
        "\n",
        "m.fuel = Integral(m.t, wrt=m.t, rule = lambda m, t: m.u[t]*m.T)\n",
        "m.obj = Objective(expr=m.fuel, sense=minimize)\n",
        "\n",
        "m.ode1 = Constraint(m.t, rule = lambda m, t: m.m[t]*m.a[t]/m.T**2 == -m.m[t]*g + v_exhaust*m.u[t])\n",
        "m.ode2 = Constraint(m.t, rule = lambda m, t: m.mdot[t]/m.T == -m.u[t])\n",
        "\n",
        "m.h[0].fix(h_initial)\n",
        "m.v[0].fix(-v_initial)\n",
        "m.m[0].fix(m_total)\n",
        "\n",
        "m.h[1].fix(0)    # land on surface\n",
        "m.v[1].fix(0)    # soft landing\n",
        "\n",
        "def solve(m):\n",
        "    TransformationFactory('dae.finite_difference').apply_to(m, nfe=50, scheme='FORWARD')\n",
        "    SolverFactory('ipopt').solve(m)\n",
        "\n",
        "    m_nonfuel = m_ascent_dry + m_ascent_fuel + m_descent_dry\n",
        "    \n",
        "    tsim = [t*m.T() for t in m.t]\n",
        "    hsim = [m.h[t]() for t in m.t]\n",
        "    usim = [m.u[t]() for t in m.t]\n",
        "    fsim = [m.m[t]() - m_nonfuel for t in m.t]\n",
        "\n",
        "    plt.figure(figsize=(8,6))\n",
        "    plt.subplot(3,1,1)\n",
        "    plt.plot(tsim, hsim)\n",
        "    plt.title('altitude')\n",
        "    plt.ylabel('meters')\n",
        "    plt.legend(['mission length = ' + str(round(m.T(),1)) + ' seconds'])\n",
        "    plt.grid(True)\n",
        "\n",
        "    plt.subplot(3,1,2)\n",
        "    plt.plot(tsim, usim)\n",
        "    plt.title('engine mass flow')\n",
        "    plt.ylabel('kg/sec')\n",
        "    plt.legend(['fuel burned = ' + str(round(m.fuel(),1)) + ' kg'])\n",
        "    plt.grid(True)\n",
        "\n",
        "    plt.subplot(3,1,3)\n",
        "    plt.plot(tsim, fsim)\n",
        "    plt.title('fuel remaining')\n",
        "    plt.xlabel('time / seconds')\n",
        "    plt.ylabel('kg')\n",
        "    plt.legend(['fuel remaining = ' + str(round(fsim[-1],2)) + ' kg'])\n",
        "    plt.grid(True)\n",
        "\n",
        "    plt.tight_layout()\n",
        "\n",
        "solve(m)"
      ]
    },
    {
      "cell_type": "code",
      "execution_count": null,
      "metadata": {
        "id": "dT6TAUd0PJCV",
        "nbpages": {
          "level": 2,
          "link": "[6.4.4 Version 3: Rocket model](https://jckantor.github.io/ND-Pyomo-Cookbook/06.04-Soft-Landing-Apollo-11-on-the-Moon.html#6.4.4-Version-3:-Rocket-model)",
          "section": "6.4.4 Version 3: Rocket model"
        }
      },
      "outputs": [],
      "source": []
    },
    {
      "cell_type": "markdown",
      "metadata": {
        "id": "NFg82boWSfig",
        "nbpages": {
          "level": 2,
          "link": "[6.4.4 Version 3: Rocket model](https://jckantor.github.io/ND-Pyomo-Cookbook/06.04-Soft-Landing-Apollo-11-on-the-Moon.html#6.4.4-Version-3:-Rocket-model)",
          "section": "6.4.4 Version 3: Rocket model"
        }
      },
      "source": [
        "<!--NAVIGATION-->\n",
        "< [6.3 Path Planning for a Simple Car](https://jckantor.github.io/ND-Pyomo-Cookbook/06.03-Path-Planning-for-a-Simple-Car.html) | [Contents](toc.html) | [Tag Index](tag_index.html) | [6.5 Ascent from Lunar Surface](https://jckantor.github.io/ND-Pyomo-Cookbook/06.05-Launching-Apollo-11-from-the-Moon.html) ><p><a href=\"https://colab.research.google.com/github/jckantor/ND-Pyomo-Cookbook/blob/master/docs/06.04-Soft-Landing-Apollo-11-on-the-Moon.ipynb\"> <img align=\"left\" src=\"https://colab.research.google.com/assets/colab-badge.svg\" alt=\"Open in Colab\" title=\"Open in Google Colaboratory\"></a><p><a href=\"https://jckantor.github.io/ND-Pyomo-Cookbook/06.04-Soft-Landing-Apollo-11-on-the-Moon.ipynb\"> <img align=\"left\" src=\"https://img.shields.io/badge/Github-Download-blue.svg\" alt=\"Download\" title=\"Download Notebook\"></a>"
      ]
    }
  ],
  "metadata": {
    "colab": {
      "collapsed_sections": [],
      "name": "06.04-Soft-Landing-Apollo-11-on-the-Moon.ipynb",
      "provenance": [],
      "toc_visible": true
    },
    "kernelspec": {
      "display_name": "Python 3.7.12 ('beginnersPPO': conda)",
      "language": "python",
      "name": "python3"
    },
    "language_info": {
      "codemirror_mode": {
        "name": "ipython",
        "version": 3
      },
      "file_extension": ".py",
      "mimetype": "text/x-python",
      "name": "python",
      "nbconvert_exporter": "python",
      "pygments_lexer": "ipython3",
      "version": "3.7.12"
    },
    "vscode": {
      "interpreter": {
        "hash": "6bb16cade9d36141ae9213d884fb1ae293e1d9fda2be68716a113c15fbf181a7"
      }
    }
  },
  "nbformat": 4,
  "nbformat_minor": 0
}
