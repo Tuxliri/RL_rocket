{
  "cells": [
    {
      "cell_type": "markdown",
      "metadata": {
        "id": "view-in-github",
        "colab_type": "text"
      },
      "source": [
        "<a href=\"https://colab.research.google.com/github/Tuxliri/RL_rocket/blob/ppo-6DOF/run_colab_6DOF.ipynb\" target=\"_parent\"><img src=\"https://colab.research.google.com/assets/colab-badge.svg\" alt=\"Open In Colab\"/></a>"
      ]
    },
    {
      "cell_type": "code",
      "execution_count": 1,
      "metadata": {
        "id": "I4Uab7q5v8nS",
        "outputId": "3e2dafdb-2fd0-493c-c162-21e1850ef174",
        "colab": {
          "base_uri": "https://localhost:8080/"
        }
      },
      "outputs": [
        {
          "output_type": "stream",
          "name": "stdout",
          "text": [
            "Cloning into 'RL_rocket'...\n",
            "remote: Enumerating objects: 1927, done.\u001b[K\n",
            "remote: Counting objects: 100% (611/611), done.\u001b[K\n",
            "remote: Compressing objects: 100% (324/324), done.\u001b[K\n",
            "remote: Total 1927 (delta 328), reused 525 (delta 287), pack-reused 1316\u001b[K\n",
            "Receiving objects: 100% (1927/1927), 14.62 MiB | 17.47 MiB/s, done.\n",
            "Resolving deltas: 100% (1152/1152), done.\n"
          ]
        }
      ],
      "source": [
        "!git clone --branch ppo-6DOF https://github.com/Tuxliri/RL_rocket.git"
      ]
    },
    {
      "cell_type": "code",
      "execution_count": 2,
      "metadata": {
        "id": "sWzlYmiY141N",
        "outputId": "4efe0aa7-6286-4796-abb7-449d2c23b96c",
        "colab": {
          "base_uri": "https://localhost:8080/"
        }
      },
      "outputs": [
        {
          "output_type": "stream",
          "name": "stdout",
          "text": [
            "Looking in indexes: https://pypi.org/simple, https://us-python.pkg.dev/colab-wheels/public/simple/\n",
            "Collecting stable-baselines3==1.5.0\n",
            "  Downloading stable_baselines3-1.5.0-py3-none-any.whl (177 kB)\n",
            "\u001b[K     |████████████████████████████████| 177 kB 4.9 MB/s \n",
            "\u001b[?25hRequirement already satisfied: pandas in /usr/local/lib/python3.7/dist-packages (from stable-baselines3==1.5.0) (1.3.5)\n",
            "Requirement already satisfied: matplotlib in /usr/local/lib/python3.7/dist-packages (from stable-baselines3==1.5.0) (3.2.2)\n",
            "Collecting gym==0.21\n",
            "  Downloading gym-0.21.0.tar.gz (1.5 MB)\n",
            "\u001b[K     |████████████████████████████████| 1.5 MB 53.4 MB/s \n",
            "\u001b[?25hRequirement already satisfied: torch>=1.8.1 in /usr/local/lib/python3.7/dist-packages (from stable-baselines3==1.5.0) (1.12.1+cu113)\n",
            "Requirement already satisfied: numpy in /usr/local/lib/python3.7/dist-packages (from stable-baselines3==1.5.0) (1.21.6)\n",
            "Requirement already satisfied: cloudpickle in /usr/local/lib/python3.7/dist-packages (from stable-baselines3==1.5.0) (1.5.0)\n",
            "Requirement already satisfied: importlib_metadata>=4.8.1 in /usr/local/lib/python3.7/dist-packages (from gym==0.21->stable-baselines3==1.5.0) (4.12.0)\n",
            "Requirement already satisfied: zipp>=0.5 in /usr/local/lib/python3.7/dist-packages (from importlib_metadata>=4.8.1->gym==0.21->stable-baselines3==1.5.0) (3.8.1)\n",
            "Requirement already satisfied: typing-extensions>=3.6.4 in /usr/local/lib/python3.7/dist-packages (from importlib_metadata>=4.8.1->gym==0.21->stable-baselines3==1.5.0) (4.1.1)\n",
            "Requirement already satisfied: cycler>=0.10 in /usr/local/lib/python3.7/dist-packages (from matplotlib->stable-baselines3==1.5.0) (0.11.0)\n",
            "Requirement already satisfied: pyparsing!=2.0.4,!=2.1.2,!=2.1.6,>=2.0.1 in /usr/local/lib/python3.7/dist-packages (from matplotlib->stable-baselines3==1.5.0) (3.0.9)\n",
            "Requirement already satisfied: kiwisolver>=1.0.1 in /usr/local/lib/python3.7/dist-packages (from matplotlib->stable-baselines3==1.5.0) (1.4.4)\n",
            "Requirement already satisfied: python-dateutil>=2.1 in /usr/local/lib/python3.7/dist-packages (from matplotlib->stable-baselines3==1.5.0) (2.8.2)\n",
            "Requirement already satisfied: six>=1.5 in /usr/local/lib/python3.7/dist-packages (from python-dateutil>=2.1->matplotlib->stable-baselines3==1.5.0) (1.15.0)\n",
            "Requirement already satisfied: pytz>=2017.3 in /usr/local/lib/python3.7/dist-packages (from pandas->stable-baselines3==1.5.0) (2022.2.1)\n",
            "Building wheels for collected packages: gym\n",
            "  Building wheel for gym (setup.py) ... \u001b[?25l\u001b[?25hdone\n",
            "  Created wheel for gym: filename=gym-0.21.0-py3-none-any.whl size=1616826 sha256=edb12be220d21149dbad683025d3529fc64c3ba947c792be727d705dcf4df46b\n",
            "  Stored in directory: /root/.cache/pip/wheels/76/ee/9c/36bfe3e079df99acf5ae57f4e3464ff2771b34447d6d2f2148\n",
            "Successfully built gym\n",
            "Installing collected packages: gym, stable-baselines3\n",
            "  Attempting uninstall: gym\n",
            "    Found existing installation: gym 0.25.1\n",
            "    Uninstalling gym-0.25.1:\n",
            "      Successfully uninstalled gym-0.25.1\n",
            "Successfully installed gym-0.21.0 stable-baselines3-1.5.0\n",
            "Looking in indexes: https://pypi.org/simple, https://us-python.pkg.dev/colab-wheels/public/simple/\n",
            "Obtaining file:///content/RL_rocket\n",
            "Requirement already satisfied: gym==0.21.0 in /usr/local/lib/python3.7/dist-packages (from my-environment==0.0.2) (0.21.0)\n",
            "Requirement already satisfied: scipy==1.7.3 in /usr/local/lib/python3.7/dist-packages (from my-environment==0.0.2) (1.7.3)\n",
            "Collecting pygame==2.1.2\n",
            "  Downloading pygame-2.1.2-cp37-cp37m-manylinux_2_17_x86_64.manylinux2014_x86_64.whl (21.8 MB)\n",
            "\u001b[K     |████████████████████████████████| 21.8 MB 1.4 MB/s \n",
            "\u001b[?25hRequirement already satisfied: numpy==1.21.* in /usr/local/lib/python3.7/dist-packages (from my-environment==0.0.2) (1.21.6)\n",
            "Collecting wandb\n",
            "  Downloading wandb-0.13.2-py2.py3-none-any.whl (1.8 MB)\n",
            "\u001b[K     |████████████████████████████████| 1.8 MB 51.4 MB/s \n",
            "\u001b[?25hCollecting pyvista\n",
            "  Downloading pyvista-0.36.1-py3-none-any.whl (1.5 MB)\n",
            "\u001b[K     |████████████████████████████████| 1.5 MB 64.7 MB/s \n",
            "\u001b[?25hRequirement already satisfied: importlib-metadata>=4.8.1 in /usr/local/lib/python3.7/dist-packages (from gym==0.21.0->my-environment==0.0.2) (4.12.0)\n",
            "Requirement already satisfied: cloudpickle>=1.2.0 in /usr/local/lib/python3.7/dist-packages (from gym==0.21.0->my-environment==0.0.2) (1.5.0)\n",
            "Requirement already satisfied: zipp>=0.5 in /usr/local/lib/python3.7/dist-packages (from importlib-metadata>=4.8.1->gym==0.21.0->my-environment==0.0.2) (3.8.1)\n",
            "Requirement already satisfied: typing-extensions>=3.6.4 in /usr/local/lib/python3.7/dist-packages (from importlib-metadata>=4.8.1->gym==0.21.0->my-environment==0.0.2) (4.1.1)\n",
            "Collecting scooby>=0.5.1\n",
            "  Downloading scooby-0.6.0-py3-none-any.whl (14 kB)\n",
            "Collecting vtk\n",
            "  Downloading vtk-9.1.0-cp37-cp37m-manylinux_2_17_x86_64.manylinux2014_x86_64.whl (88.3 MB)\n",
            "\u001b[K     |████████████████████████████████| 88.3 MB 108 kB/s \n",
            "\u001b[?25hRequirement already satisfied: appdirs in /usr/local/lib/python3.7/dist-packages (from pyvista->my-environment==0.0.2) (1.4.4)\n",
            "Requirement already satisfied: pillow in /usr/local/lib/python3.7/dist-packages (from pyvista->my-environment==0.0.2) (7.1.2)\n",
            "Requirement already satisfied: imageio in /usr/local/lib/python3.7/dist-packages (from pyvista->my-environment==0.0.2) (2.9.0)\n",
            "Collecting wslink>=1.0.4\n",
            "  Downloading wslink-1.8.2-py3-none-any.whl (27 kB)\n",
            "Requirement already satisfied: matplotlib>=2.0.0 in /usr/local/lib/python3.7/dist-packages (from vtk->pyvista->my-environment==0.0.2) (3.2.2)\n",
            "Requirement already satisfied: cycler>=0.10 in /usr/local/lib/python3.7/dist-packages (from matplotlib>=2.0.0->vtk->pyvista->my-environment==0.0.2) (0.11.0)\n",
            "Requirement already satisfied: python-dateutil>=2.1 in /usr/local/lib/python3.7/dist-packages (from matplotlib>=2.0.0->vtk->pyvista->my-environment==0.0.2) (2.8.2)\n",
            "Requirement already satisfied: kiwisolver>=1.0.1 in /usr/local/lib/python3.7/dist-packages (from matplotlib>=2.0.0->vtk->pyvista->my-environment==0.0.2) (1.4.4)\n",
            "Requirement already satisfied: pyparsing!=2.0.4,!=2.1.2,!=2.1.6,>=2.0.1 in /usr/local/lib/python3.7/dist-packages (from matplotlib>=2.0.0->vtk->pyvista->my-environment==0.0.2) (3.0.9)\n",
            "Requirement already satisfied: six>=1.5 in /usr/local/lib/python3.7/dist-packages (from python-dateutil>=2.1->matplotlib>=2.0.0->vtk->pyvista->my-environment==0.0.2) (1.15.0)\n",
            "Requirement already satisfied: aiohttp<4 in /usr/local/lib/python3.7/dist-packages (from wslink>=1.0.4->vtk->pyvista->my-environment==0.0.2) (3.8.1)\n",
            "Requirement already satisfied: frozenlist>=1.1.1 in /usr/local/lib/python3.7/dist-packages (from aiohttp<4->wslink>=1.0.4->vtk->pyvista->my-environment==0.0.2) (1.3.1)\n",
            "Requirement already satisfied: async-timeout<5.0,>=4.0.0a3 in /usr/local/lib/python3.7/dist-packages (from aiohttp<4->wslink>=1.0.4->vtk->pyvista->my-environment==0.0.2) (4.0.2)\n",
            "Requirement already satisfied: attrs>=17.3.0 in /usr/local/lib/python3.7/dist-packages (from aiohttp<4->wslink>=1.0.4->vtk->pyvista->my-environment==0.0.2) (22.1.0)\n",
            "Requirement already satisfied: aiosignal>=1.1.2 in /usr/local/lib/python3.7/dist-packages (from aiohttp<4->wslink>=1.0.4->vtk->pyvista->my-environment==0.0.2) (1.2.0)\n",
            "Requirement already satisfied: charset-normalizer<3.0,>=2.0 in /usr/local/lib/python3.7/dist-packages (from aiohttp<4->wslink>=1.0.4->vtk->pyvista->my-environment==0.0.2) (2.1.0)\n",
            "Requirement already satisfied: multidict<7.0,>=4.5 in /usr/local/lib/python3.7/dist-packages (from aiohttp<4->wslink>=1.0.4->vtk->pyvista->my-environment==0.0.2) (6.0.2)\n",
            "Requirement already satisfied: asynctest==0.13.0 in /usr/local/lib/python3.7/dist-packages (from aiohttp<4->wslink>=1.0.4->vtk->pyvista->my-environment==0.0.2) (0.13.0)\n",
            "Requirement already satisfied: yarl<2.0,>=1.0 in /usr/local/lib/python3.7/dist-packages (from aiohttp<4->wslink>=1.0.4->vtk->pyvista->my-environment==0.0.2) (1.8.1)\n",
            "Requirement already satisfied: idna>=2.0 in /usr/local/lib/python3.7/dist-packages (from yarl<2.0,>=1.0->aiohttp<4->wslink>=1.0.4->vtk->pyvista->my-environment==0.0.2) (2.10)\n",
            "Collecting docker-pycreds>=0.4.0\n",
            "  Downloading docker_pycreds-0.4.0-py2.py3-none-any.whl (9.0 kB)\n",
            "Requirement already satisfied: Click!=8.0.0,>=7.0 in /usr/local/lib/python3.7/dist-packages (from wandb->my-environment==0.0.2) (7.1.2)\n",
            "Requirement already satisfied: promise<3,>=2.0 in /usr/local/lib/python3.7/dist-packages (from wandb->my-environment==0.0.2) (2.3)\n",
            "Requirement already satisfied: protobuf<4.0dev,>=3.12.0 in /usr/local/lib/python3.7/dist-packages (from wandb->my-environment==0.0.2) (3.17.3)\n",
            "Collecting setproctitle\n",
            "  Downloading setproctitle-1.3.2-cp37-cp37m-manylinux_2_5_x86_64.manylinux1_x86_64.manylinux_2_17_x86_64.manylinux2014_x86_64.whl (30 kB)\n",
            "Collecting shortuuid>=0.5.0\n",
            "  Downloading shortuuid-1.0.9-py3-none-any.whl (9.4 kB)\n",
            "Requirement already satisfied: PyYAML in /usr/local/lib/python3.7/dist-packages (from wandb->my-environment==0.0.2) (6.0)\n",
            "Collecting pathtools\n",
            "  Downloading pathtools-0.1.2.tar.gz (11 kB)\n",
            "Collecting sentry-sdk>=1.0.0\n",
            "  Downloading sentry_sdk-1.9.5-py2.py3-none-any.whl (157 kB)\n",
            "\u001b[K     |████████████████████████████████| 157 kB 65.4 MB/s \n",
            "\u001b[?25hRequirement already satisfied: requests<3,>=2.0.0 in /usr/local/lib/python3.7/dist-packages (from wandb->my-environment==0.0.2) (2.23.0)\n",
            "Requirement already satisfied: psutil>=5.0.0 in /usr/local/lib/python3.7/dist-packages (from wandb->my-environment==0.0.2) (5.4.8)\n",
            "Requirement already satisfied: setuptools in /usr/local/lib/python3.7/dist-packages (from wandb->my-environment==0.0.2) (57.4.0)\n",
            "Collecting GitPython>=1.0.0\n",
            "  Downloading GitPython-3.1.27-py3-none-any.whl (181 kB)\n",
            "\u001b[K     |████████████████████████████████| 181 kB 69.6 MB/s \n",
            "\u001b[?25hCollecting gitdb<5,>=4.0.1\n",
            "  Downloading gitdb-4.0.9-py3-none-any.whl (63 kB)\n",
            "\u001b[K     |████████████████████████████████| 63 kB 1.7 MB/s \n",
            "\u001b[?25hCollecting smmap<6,>=3.0.1\n",
            "  Downloading smmap-5.0.0-py3-none-any.whl (24 kB)\n",
            "Requirement already satisfied: urllib3!=1.25.0,!=1.25.1,<1.26,>=1.21.1 in /usr/local/lib/python3.7/dist-packages (from requests<3,>=2.0.0->wandb->my-environment==0.0.2) (1.24.3)\n",
            "Requirement already satisfied: chardet<4,>=3.0.2 in /usr/local/lib/python3.7/dist-packages (from requests<3,>=2.0.0->wandb->my-environment==0.0.2) (3.0.4)\n",
            "Requirement already satisfied: certifi>=2017.4.17 in /usr/local/lib/python3.7/dist-packages (from requests<3,>=2.0.0->wandb->my-environment==0.0.2) (2022.6.15)\n",
            "Collecting sentry-sdk>=1.0.0\n",
            "  Downloading sentry_sdk-1.9.4-py2.py3-none-any.whl (157 kB)\n",
            "\u001b[K     |████████████████████████████████| 157 kB 65.1 MB/s \n",
            "\u001b[?25h  Downloading sentry_sdk-1.9.3-py2.py3-none-any.whl (157 kB)\n",
            "\u001b[K     |████████████████████████████████| 157 kB 58.1 MB/s \n",
            "\u001b[?25h  Downloading sentry_sdk-1.9.2-py2.py3-none-any.whl (157 kB)\n",
            "\u001b[K     |████████████████████████████████| 157 kB 55.1 MB/s \n",
            "\u001b[?25h  Downloading sentry_sdk-1.9.1-py2.py3-none-any.whl (157 kB)\n",
            "\u001b[K     |████████████████████████████████| 157 kB 52.1 MB/s \n",
            "\u001b[?25h  Downloading sentry_sdk-1.9.0-py2.py3-none-any.whl (156 kB)\n",
            "\u001b[K     |████████████████████████████████| 156 kB 48.7 MB/s \n",
            "\u001b[?25hBuilding wheels for collected packages: pathtools\n",
            "  Building wheel for pathtools (setup.py) ... \u001b[?25l\u001b[?25hdone\n",
            "  Created wheel for pathtools: filename=pathtools-0.1.2-py3-none-any.whl size=8806 sha256=2c7c69fc5c992648d1684b02f5c1e5120f35a590358ce14aa9f0c9825ab93c6e\n",
            "  Stored in directory: /root/.cache/pip/wheels/3e/31/09/fa59cef12cdcfecc627b3d24273699f390e71828921b2cbba2\n",
            "Successfully built pathtools\n",
            "Installing collected packages: smmap, wslink, gitdb, vtk, shortuuid, setproctitle, sentry-sdk, scooby, pathtools, GitPython, docker-pycreds, wandb, pyvista, pygame, my-environment\n",
            "  Running setup.py develop for my-environment\n",
            "Successfully installed GitPython-3.1.27 docker-pycreds-0.4.0 gitdb-4.0.9 my-environment-0.0.2 pathtools-0.1.2 pygame-2.1.2 pyvista-0.36.1 scooby-0.6.0 sentry-sdk-1.9.0 setproctitle-1.3.2 shortuuid-1.0.9 smmap-5.0.0 vtk-9.1.0 wandb-0.13.2 wslink-1.8.2\n"
          ]
        }
      ],
      "source": [
        "!pip install stable-baselines3==1.5.0\n",
        "\n",
        "!pip install -e RL_rocket/."
      ]
    },
    {
      "cell_type": "markdown",
      "metadata": {
        "id": "HiCJgT535o_N"
      },
      "source": [
        "**IMPORT ALL THE NEEDED PACKAGES**"
      ]
    },
    {
      "cell_type": "code",
      "execution_count": 6,
      "metadata": {
        "id": "Sb-HCUk1v2KO",
        "outputId": "26f84d45-a0c9-4ac3-a473-da22a1ba5a4e",
        "colab": {
          "base_uri": "https://localhost:8080/"
        }
      },
      "outputs": [
        {
          "output_type": "stream",
          "name": "stdout",
          "text": [
            "[Errno 2] No such file or directory: 'RL_rocket/'\n",
            "/content/RL_rocket\n"
          ]
        }
      ],
      "source": [
        "import gym\n",
        "%cd RL_rocket/\n",
        "import my_environment\n",
        "\n",
        "!apt-get install -y xvfb python-opengl ffmpeg > /dev/null 2>&1\n",
        "\n",
        "import pyvista as pv\n",
        "pv.start_xvfb()"
      ]
    },
    {
      "cell_type": "code",
      "source": [
        "env = gym.make('my_environment/Falcon6DOF-v0')\n",
        "\n",
        "env.reset()\n",
        "img=env.render(mode='rgb_array')"
      ],
      "metadata": {
        "id": "W0fcASt0y4a0",
        "outputId": "6f133df1-dd4d-4299-9382-352a302dec53",
        "colab": {
          "base_uri": "https://localhost:8080/"
        }
      },
      "execution_count": 9,
      "outputs": [
        {
          "output_type": "stream",
          "name": "stderr",
          "text": [
            "/usr/local/lib/python3.7/dist-packages/gym/spaces/box.py:74: UserWarning: \u001b[33mWARN: Box bound precision lowered by casting to float32\u001b[0m\n",
            "  \"Box bound precision lowered by casting to {}\".format(self.dtype)\n",
            "/usr/local/lib/python3.7/dist-packages/pyvista/core/pointset.py:317: PyvistaDeprecationWarning: You did not specify a value for `inplace` and the default value will be changing to `False` in future versions for point-based meshes (e.g., `PolyData`). Please make sure you are not assuming this to be an inplace operation.\n",
            "  warnings.warn(DEFAULT_INPLACE_WARNING, PyvistaDeprecationWarning)\n"
          ]
        }
      ]
    },
    {
      "cell_type": "code",
      "source": [
        "from matplotlib import pyplot as plt\n",
        "from IPython.display import Image\n",
        "\n",
        "plt.imshow(img)\n",
        "plt.title('Image'), plt.xticks([]), plt.yticks([])\n",
        "plt.show()"
      ],
      "metadata": {
        "id": "i1zVY3Fm17Zs",
        "outputId": "13924d2c-a169-4838-b7b4-06f917dc94ef",
        "colab": {
          "base_uri": "https://localhost:8080/",
          "height": 268
        }
      },
      "execution_count": 12,
      "outputs": [
        {
          "output_type": "display_data",
          "data": {
            "text/plain": [
              "<Figure size 432x288 with 1 Axes>"
            ],
            "image/png": "[encoded data removed]"
          },
          "metadata": {}
        }
      ]
    },
    {
      "cell_type": "markdown",
      "metadata": {
        "id": "rpwKGvd_v4sF"
      },
      "source": [
        "# Execute the training"
      ]
    },
    {
      "cell_type": "markdown",
      "metadata": {
        "id": "0whknuJU6tIm"
      },
      "source": [
        "**Environment definition**\n",
        "\n",
        "Here we define the environment, setting up the initial conditions, the range over which the initial conditions are generated and the timestep of the simulation."
      ]
    },
    {
      "cell_type": "code",
      "execution_count": null,
      "metadata": {
        "id": "_MC0kpJp6Yuf"
      },
      "outputs": [],
      "source": [
        "# Choose the folder to store tensorboard logs\n",
        "TENSORBOARD_LOGS_DIR = \"./logs\"\n",
        "\n",
        "config = {\n",
        "    \"env_id\" : \"my_environment/Falcon3DOF-v0\",\n",
        "    \"policy_type\": \"MlpPolicy\",\n",
        "    \"total_timesteps\": int(2e6),\n",
        "    \"timestep\" : 0.05,\n",
        "    \"max_time\" : 100,\n",
        "    \"RANDOM_SEED\" : 42,\n",
        "    \"initial_conditions\" : [-1600, 2000, np.pi*3/4, 180, -90, 0, 50e3],\n",
        "    \"initial_conditions_range\" : [5,50,0,0,0,0,1e3],\n",
        "    \"reward_coefficients\" : {\n",
        "                            \"alfa\" : -0.01, \n",
        "                            \"beta\" : 0,\n",
        "                            \"delta\" : -5,\n",
        "                            \"eta\" : 0.2,\n",
        "                            \"gamma\" : -10,\n",
        "                            \"kappa\" : 10,\n",
        "                            \"xi\" : 0.004,\n",
        "                            \"waypoint\" : 30,\n",
        "                            \"landing_radius\" : 30\n",
        "                            },\n",
        "}\n",
        "\n",
        "config[\"max_ep_timesteps\"] = int(config[\"max_time\"]/config[\"timestep\"])\n",
        "config[\"eval_freq\"] = int(config[\"total_timesteps\"]/20)\n",
        "\n",
        "run = wandb.init(\n",
        "    project=\"RL_rocket\",\n",
        "    config=config,\n",
        "    sync_tensorboard=True,  # auto-upload sb3's tensorboard metrics\n",
        "    monitor_gym=True,  # auto-upload the videos of agents playing the game\n",
        ")\n",
        "\n",
        "def make_env():\n",
        "    env = gym.make(\n",
        "    config[\"env_id\"],\n",
        "    IC=config[\"initial_conditions\"],\n",
        "    ICRange=config[\"initial_conditions_range\"],\n",
        "    timestep=config[\"timestep\"],\n",
        "    seed=config[\"RANDOM_SEED\"],\n",
        "    reward_coeff=config[\"reward_coefficients\"]\n",
        "    )\n",
        "    \n",
        "    # Define a new custom action space with only three actions:\n",
        "    # - no thrust\n",
        "    # - max thrust gimbaled right\n",
        "    # - max thrust gimbaled left\n",
        "    # - max thrust downwards\n",
        "    \n",
        "    # env = DiscreteActions3DOF(env)\n",
        "    env = TimeLimit(env, max_episode_steps=config[\"max_ep_timesteps\"])\n",
        "    env = Monitor(\n",
        "        env,\n",
        "        allow_early_resets=True,\n",
        "        filename=\"logs_PPO\",\n",
        "        )\n",
        "    return env"
      ]
    },
    {
      "cell_type": "code",
      "execution_count": null,
      "metadata": {
        "id": "WVl1xBs6156_"
      },
      "outputs": [],
      "source": [
        "wandb.run.log_code(root = '/content/RL_rocket/my_environment', name = 'environment')"
      ]
    },
    {
      "cell_type": "code",
      "execution_count": null,
      "metadata": {
        "id": "oZ1ZGrab6TJh"
      },
      "outputs": [],
      "source": [
        "env=make_env()\n",
        "model = PPO(\n",
        "    config[\"policy_type\"],\n",
        "    env,\n",
        "    tensorboard_log=f\"runs/{run.id}\",\n",
        "    verbose=1,\n",
        "    seed=config[\"RANDOM_SEED\"],\n",
        "    ent_coef=0.01,\n",
        "    )\n",
        "\n",
        "def make_eval_env(training_env = env):\n",
        "        return RecordVideoFigure(training_env, video_folder=f\"videos/{run.id}\",\n",
        "        image_folder=f\"images/{run.id}\", episode_trigger= lambda x: x%5==0 )\n",
        "\n",
        "  \n",
        "eval_env = DummyVecEnv([make_eval_env])\n",
        "            \n",
        "callbacksList = [\n",
        "    EvalCallback(\n",
        "        eval_env,\n",
        "        eval_freq = config[\"eval_freq\"],\n",
        "        n_eval_episodes = 5,\n",
        "        render=False,\n",
        "        deterministic=True,\n",
        "        ),\n",
        "    WandbCallback(\n",
        "        model_save_path=f\"models/{run.id}\",\n",
        "        verbose=2,\n",
        "        gradient_save_freq=10000\n",
        "        )\n",
        "    ]\n",
        "\n",
        "model.learn(\n",
        "    total_timesteps=config[\"total_timesteps\"],\n",
        "    callback=callbacksList\n",
        ")"
      ]
    },
    {
      "cell_type": "code",
      "execution_count": null,
      "metadata": {
        "id": "6djos42SjrKv"
      },
      "outputs": [],
      "source": [
        "def make_env(config):\n",
        "    env = gym.make(\n",
        "    config[\"env_id\"],\n",
        "    IC=config[\"initial_conditions\"],\n",
        "    ICRange=config[\"initial_conditions_range\"],\n",
        "    timestep=config[\"timestep\"],\n",
        "    seed=config[\"RANDOM_SEED\"]\n",
        "    )\n",
        "    # Anneal the reward (remove v_targ following reward)\n",
        "    env = RewardAnnealing(env, thrust_penalty = 0.004)\n",
        "\n",
        "    # Define a new custom action space with only three actions:\n",
        "    # - no thrust\n",
        "    # - max thrust gimbaled right\n",
        "    # - max thrust gimbaled left\n",
        "    # - max thrust downwards\n",
        "    \n",
        "    # env = DiscreteActions3DOF(env)\n",
        "    env = TimeLimit(env, max_episode_steps=config[\"max_ep_timesteps\"])\n",
        "    return env\n",
        "\n",
        "env=make_env(config)\n",
        "\n",
        "def make_eval_env(training_env=env):\n",
        "    return RecordVideoFigure(training_env, video_folder=f\"videos/{run.id}\",\n",
        "            image_folder=f\"images/{run.id}\", episode_trigger= lambda x: x%5==0 )\n",
        "\n",
        "eval_env = DummyVecEnv([make_eval_env])\n",
        "\n",
        "callbacksList = [\n",
        "    EvalCallback(\n",
        "        eval_env,\n",
        "        eval_freq = config[\"eval_freq\"],\n",
        "        n_eval_episodes = 5,\n",
        "        render=False,\n",
        "        deterministic=True,\n",
        "        ),\n",
        "    WandbCallback(\n",
        "        model_save_path=f\"models/{run.id}\",\n",
        "        verbose=2,\n",
        "        gradient_save_freq=10000\n",
        "        ),\n",
        "]     \n",
        "    \n",
        "model.set_env(env)\n",
        "# model.learn(\n",
        "#     total_timesteps=config[\"total_timesteps\"]*2,\n",
        "#     callback=callbacksList\n",
        "# )\n",
        "\n",
        "run.finish()"
      ]
    }
  ],
  "metadata": {
    "colab": {
      "collapsed_sections": [],
      "name": "run_my_environment.ipynb",
      "provenance": [],
      "include_colab_link": true
    },
    "kernelspec": {
      "display_name": "Python 3.7.13 ('thesis_env')",
      "language": "python",
      "name": "python3"
    },
    "language_info": {
      "codemirror_mode": {
        "name": "ipython",
        "version": 3
      },
      "file_extension": ".py",
      "mimetype": "text/x-python",
      "name": "python",
      "nbconvert_exporter": "python",
      "pygments_lexer": "ipython3",
      "version": "3.7.13"
    },
    "vscode": {
      "interpreter": {
        "hash": "cb2bed79003d04db150c2bac0cc69c4a81f9badb372e6d411ccf76fa514c45a4"
      }
    }
  },
  "nbformat": 4,
  "nbformat_minor": 0
}